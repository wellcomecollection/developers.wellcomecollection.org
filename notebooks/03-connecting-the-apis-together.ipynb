{
 "cells": [
  {
   "attachments": {},
   "cell_type": "markdown",
   "metadata": {},
   "source": [
    "# 3. Connecting the APIs together\n",
    "\n",
    "So far, we've only looked at the `/works` API, but Wellcome Collection has a few more which we can make use of. As well as `/works`, we can also use `/images` and `/concepts`. \n",
    "\n",
    "In this notebook, we'll look at how we can use these APIs together to get more complete picture of the data in the catalogue."
   ]
  },
  {
   "cell_type": "code",
   "execution_count": null,
   "metadata": {},
   "outputs": [],
   "source": [
    "base_url = \"https://api.wellcomecollection.org/catalogue/v2/\""
   ]
  },
  {
   "attachments": {},
   "cell_type": "markdown",
   "metadata": {},
   "source": [
    "We've already seen what the works API can do - let's fetch a work and have a look at the images and concepts which are linked to it."
   ]
  },
  {
   "cell_type": "code",
   "execution_count": null,
   "metadata": {},
   "outputs": [],
   "source": [
    "import requests\n",
    "\n",
    "work = requests.get(\n",
    "    base_url + \"works/zfhdzwm2\",\n",
    "    params={\"include\": \"subjects,images\"},\n",
    ").json()\n",
    "\n",
    "list(work)"
   ]
  },
  {
   "attachments": {},
   "cell_type": "markdown",
   "metadata": {},
   "source": [
    "## 3.2 Concepts\n",
    "\n",
    "We can scan through the list of subjects on the work and see which concepts they're composed of."
   ]
  },
  {
   "cell_type": "code",
   "execution_count": null,
   "metadata": {},
   "outputs": [],
   "source": [
    "for subject in work[\"subjects\"]:\n",
    "    print(\"Subject:\", subject[\"label\"])\n",
    "    print(\"Concepts:\")\n",
    "    for concept in subject['concepts']:\n",
    "        print(\"-\", concept['label'])\n",
    "    print()"
   ]
  },
  {
   "cell_type": "code",
   "execution_count": null,
   "metadata": {},
   "outputs": [],
   "source": [
    "unique_concepts = set()\n",
    "for subject in work[\"subjects\"]:\n",
    "    for concept in subject['concepts']:\n",
    "        unique_concepts.add(concept['label'])\n",
    "\n",
    "unique_concepts"
   ]
  },
  {
   "attachments": {},
   "cell_type": "markdown",
   "metadata": {},
   "source": [
    "Each of these concepts has a unique identifier, which we can use to look up the concept in the `/concepts` API."
   ]
  },
  {
   "cell_type": "code",
   "execution_count": null,
   "metadata": {},
   "outputs": [],
   "source": [
    "concept_ids = [\n",
    "    concept['id']\n",
    "    for subject in work[\"subjects\"]\n",
    "    for concept in subject['concepts']\n",
    "]\n",
    "\n",
    "first_concept_id = concept_ids[0]\n",
    "\n",
    "response = requests.get(\n",
    "    base_url + \"concepts/\" + first_concept_id\n",
    ").json()\n",
    "\n",
    "response"
   ]
  },
  {
   "attachments": {},
   "cell_type": "markdown",
   "metadata": {},
   "source": [
    "This tells us what Wellcome Collection knows about that concept, and where it appears in other controlled vocabularies. We now know that `Materia medica` has the ID `k6zqasmn` in Wellcome Collection's APIs, and is known by `sh85082055` in the Library of Congress Subject Headings (LCSH) scheme. Some concepts will also include alternative names (`alternativeLabels`) and equivalent concepts (`sameAs`), which can be useful for searching.\n",
    "\n",
    "## 3.3 Images\n",
    "\n",
    "Now, let's have a look at the images on the work."
   ]
  },
  {
   "cell_type": "code",
   "execution_count": null,
   "metadata": {},
   "outputs": [],
   "source": [
    "work['images']"
   ]
  },
  {
   "attachments": {},
   "cell_type": "markdown",
   "metadata": {},
   "source": [
    "Again, each one has an ID which corresponds to a document in the `/images` API. Let's fetch one of these images and see what we can find out about it."
   ]
  },
  {
   "cell_type": "code",
   "execution_count": null,
   "metadata": {},
   "outputs": [],
   "source": [
    "response = requests.get(\n",
    "    base_url + \"images/\" + work['images'][0]['id']\n",
    ").json()\n",
    "\n",
    "response"
   ]
  },
  {
   "attachments": {},
   "cell_type": "markdown",
   "metadata": {},
   "source": [
    "We're looking at data about the image in the context of Wellcome Collection here - the title of the work it's from (`source.title`), the rights statements associated with it (`locations[0].license.label`), its average colour (`averageColor`) and aspect ratio (`aspectRatio`). \n",
    "\n",
    "Let's look at the average colour of the images which are associated with this work."
   ]
  },
  {
   "cell_type": "code",
   "execution_count": null,
   "metadata": {},
   "outputs": [],
   "source": [
    "for image in work['images']:\n",
    "    response = requests.get(\n",
    "        base_url + \"images/\" + image['id']\n",
    "    ).json()\n",
    "    print(image['id'], response['averageColor'])"
   ]
  },
  {
   "cell_type": "code",
   "execution_count": null,
   "metadata": {},
   "outputs": [],
   "source": []
  },
  {
   "attachments": {},
   "cell_type": "markdown",
   "metadata": {},
   "source": [
    "## 3.4 Fetching actual images\n",
    "\n",
    "In addition to the first-class APIs for `/works`, `/images` and `/concepts`, the Wellcome Collection site use a few auxiliary APIs for different purposes. \n",
    "\n",
    "For example, the `/images` API returns a list of image metadata, but not the actual images themselves. To get the images, we need to use the [IIIF](https://iiif.io/) (that's International Image Interoperability Framework) API. The IIIF specification is a standardised way of fetching images from a server, which is used by many cultural institutions.\n",
    "\n",
    "Let's use one of our images from the last section to see how this works."
   ]
  },
  {
   "cell_type": "code",
   "execution_count": null,
   "metadata": {},
   "outputs": [],
   "source": [
    "image_id = work['images'][0]['id']\n",
    "response = requests.get(base_url + \"images/\" + image_id).json()\n",
    "response"
   ]
  },
  {
   "attachments": {},
   "cell_type": "markdown",
   "metadata": {},
   "source": [
    "As well as the metadata we saw in the last section, we can also see a URL which will lead us to the image itself (`thumbnail.url`)."
   ]
  },
  {
   "cell_type": "code",
   "execution_count": null,
   "metadata": {},
   "outputs": [],
   "source": [
    "iiif_url = response[\"thumbnail\"][\"url\"]\n",
    "iiif_url"
   ]
  },
  {
   "cell_type": "code",
   "execution_count": null,
   "metadata": {},
   "outputs": [],
   "source": [
    "response = requests.get(iiif_url).json()\n",
    "response"
   ]
  },
  {
   "attachments": {},
   "cell_type": "markdown",
   "metadata": {},
   "source": [
    "Again, this gives us some more metadata about the image, but not the image itself! This time, the metadata is about the specific digital image (eg. the size of the image, the format, etc.) rather than the work that the image is from.\n",
    "\n",
    "We can augment our IIIF URL using a structured set of parameters ([documented here](https://developers.wellcomecollection.org/api/iiif#tag/IIIF-Image-API/operation/get-image)) to get the image in the format we want.\n",
    "\n",
    "The following line assembles a URL which requests:\n",
    "- the full image (`full`), rather than a specific region\n",
    "- 640 pixels wide, and at the corresponding height which preserves its aspect ratio (`640,`)\n",
    "- without rotation (`0`)\n",
    "- in colour (`default`), rather than greyscale, bitonal, etc.\n",
    "- in `.jpg` format (`jpg`)"
   ]
  },
  {
   "cell_type": "code",
   "execution_count": null,
   "metadata": {},
   "outputs": [],
   "source": [
    "thumbnail_url = iiif_url.replace(\"info.json\", \"full/640,/0/default.jpg\")"
   ]
  },
  {
   "cell_type": "code",
   "execution_count": null,
   "metadata": {},
   "outputs": [],
   "source": [
    "response = requests.get(thumbnail_url)"
   ]
  },
  {
   "attachments": {},
   "cell_type": "markdown",
   "metadata": {},
   "source": [
    "We can use a couple of Python libraries to display the image in our notebook."
   ]
  },
  {
   "cell_type": "code",
   "execution_count": null,
   "metadata": {},
   "outputs": [],
   "source": [
    "from PIL import Image\n",
    "from io import BytesIO\n",
    "\n",
    "image = Image.open(BytesIO(response.content))\n",
    "image"
   ]
  },
  {
   "cell_type": "code",
   "execution_count": null,
   "metadata": {},
   "outputs": [],
   "source": [
    "image.size"
   ]
  },
  {
   "attachments": {},
   "cell_type": "markdown",
   "metadata": {},
   "source": [
    "## 3.5 Visually similar images\n",
    "\n",
    "The images API also allows us to specify some extra parameters. One of them return images which are visually similar to the one we've just fetched.\n",
    "\n",
    "Let's use our image from the last section as an example."
   ]
  },
  {
   "cell_type": "code",
   "execution_count": null,
   "metadata": {},
   "outputs": [],
   "source": [
    "image_id = work['images'][0]['id']\n",
    "\n",
    "response = requests.get(\n",
    "    base_url + \"images/\" + image_id,\n",
    "    params={\"include\": \"visuallySimilar\"},\n",
    ").json()"
   ]
  },
  {
   "attachments": {},
   "cell_type": "markdown",
   "metadata": {},
   "source": [
    "Each of the results in the response's `visuallySimilar` field is another image, with the same structure as our source image. We can use the same IIIF API to fetch the images themselves."
   ]
  },
  {
   "cell_type": "code",
   "execution_count": null,
   "metadata": {},
   "outputs": [],
   "source": [
    "for image in response['visuallySimilar']:\n",
    "    thumbnail_url = image['thumbnail']['url'].replace(\n",
    "        \"info.json\", \"full/640,/0/default.jpg\"\n",
    "    )\n",
    "\n",
    "    thumbnail_response = requests.get(thumbnail_url).content\n",
    "    image = Image.open(BytesIO(thumbnail_response))\n",
    "    display(image)\n"
   ]
  },
  {
   "attachments": {},
   "cell_type": "markdown",
   "metadata": {},
   "source": [
    "## 3.6 Getting IIIF images for digitised works\n",
    "\n",
    "We can use a similar approach to fetch images for digitised works (eg individual pages of a fully digitised book). Works which have been digitised will all have an `items` field, which contains a URL for a IIIF presentation of the work.\n",
    "\n",
    "We can filter the works API for works which have a `workType` of `a` (aka \"Books\") and `items.locations.locationType` of `iiif-presentation`."
   ]
  },
  {
   "cell_type": "code",
   "execution_count": null,
   "metadata": {},
   "outputs": [],
   "source": [
    "response = requests.get(\n",
    "    base_url + \"works\",\n",
    "    params={\n",
    "        \"query\": \"woodblock\",\n",
    "        \"workType\": \"a\",\n",
    "        \"items.locations.locationType\": \"iiif-presentation\",\n",
    "        \"include\": \"items\",\n",
    "    },\n",
    ").json()"
   ]
  },
  {
   "cell_type": "code",
   "execution_count": null,
   "metadata": {},
   "outputs": [],
   "source": [
    "response['totalResults']"
   ]
  },
  {
   "cell_type": "code",
   "execution_count": null,
   "metadata": {},
   "outputs": [],
   "source": [
    "digitised_work = response['results'][0]\n",
    "digitised_work['id']"
   ]
  },
  {
   "cell_type": "code",
   "execution_count": null,
   "metadata": {},
   "outputs": [],
   "source": [
    "list(digitised_work)"
   ]
  },
  {
   "attachments": {},
   "cell_type": "markdown",
   "metadata": {},
   "source": [
    "Let's get the IIIF presentation for the digitised work, and have a look at the IIIF response."
   ]
  },
  {
   "cell_type": "code",
   "execution_count": null,
   "metadata": {},
   "outputs": [],
   "source": [
    "for item in digitised_work[\"items\"]:\n",
    "    for location in item[\"locations\"]:\n",
    "        if location[\"locationType\"][\"id\"] == \"iiif-presentation\":\n",
    "            presentation_url = location[\"url\"]\n",
    "            break\n",
    "\n",
    "presentation_url"
   ]
  },
  {
   "cell_type": "code",
   "execution_count": null,
   "metadata": {},
   "outputs": [],
   "source": [
    "presentation_response = requests.get(presentation_url).json()"
   ]
  },
  {
   "attachments": {},
   "cell_type": "markdown",
   "metadata": {},
   "source": [
    "We want the `canvases` from this response, which contain the images for each page."
   ]
  },
  {
   "cell_type": "code",
   "execution_count": null,
   "metadata": {},
   "outputs": [],
   "source": [
    "canvases = presentation_response[\"sequences\"][0][\"canvases\"]\n",
    "len(canvases)"
   ]
  },
  {
   "attachments": {},
   "cell_type": "markdown",
   "metadata": {},
   "source": [
    "Each canvas contains an image resource, which we can use to get the IIIF image for that page, as we did in the last section."
   ]
  },
  {
   "cell_type": "code",
   "execution_count": null,
   "metadata": {},
   "outputs": [],
   "source": [
    "iiif_image_urls = [\n",
    "    canvas['images'][0]['resource']['@id']\n",
    "    for canvas in canvases\n",
    "]\n",
    "iiif_image_urls[:5]"
   ]
  },
  {
   "attachments": {},
   "cell_type": "markdown",
   "metadata": {},
   "source": [
    "Let's display the first few images"
   ]
  },
  {
   "cell_type": "code",
   "execution_count": null,
   "metadata": {},
   "outputs": [],
   "source": [
    "for iiif_image_url in iiif_image_urls[:5]:\n",
    "    image_bytes = requests.get(iiif_image_url).content\n",
    "    image = Image.open(BytesIO(image_bytes))    \n",
    "    display(image)"
   ]
  },
  {
   "attachments": {},
   "cell_type": "markdown",
   "metadata": {},
   "source": [
    "## Exercises\n",
    "\n",
    "1. Display the next 5 pages of our digitised work.\n",
    "2. Have a look at the [developers documentation](https://developers.wellcomecollection.org/api/catalogue#tag/Images/operation/getImages) and figure out how to filter an image search by colour. See if you can find some pink elephants (hint: `#b23f72` is the hex code for a nice bright pink).\n",
    "3. Find an image's visually similar images, and then find the visually similar images for all of those images.\n",
    "4. Find a concept which includes some `alternativeLabels`. See whether you can find any works which have been tagged with those alternative labels.\n",
    "5. Find another work which has a `workType` of `a` (aka \"Books\") and `items.locations.locationType` of `iiif-presentation`. Fetch the IIIF presentation for the digitised work, and explore its images."
   ]
  },
  {
   "cell_type": "markdown",
   "metadata": {},
   "source": []
  }
 ],
 "metadata": {
  "kernelspec": {
   "display_name": "Python 3",
   "language": "python",
   "name": "python3"
  },
  "language_info": {
   "codemirror_mode": {
    "name": "ipython",
    "version": 3
   },
   "file_extension": ".py",
   "mimetype": "text/x-python",
   "name": "python",
   "nbconvert_exporter": "python",
   "pygments_lexer": "ipython3",
   "version": "3.10.11"
  }
 },
 "nbformat": 4,
 "nbformat_minor": 2
}
