{
 "cells": [
  {
   "attachments": {},
   "cell_type": "markdown",
   "metadata": {},
   "source": [
    "# 9. Building a recommender system for subjects\n",
    "\n",
    "Finally, we'll consider building a recommender system using data from Wellcome Collection. Thes machine learning models work slightly differently to the ones we've seen so far. Rather than being trained to predict a single value, they're trained to predict a whole matrix of interactions between two kinds of entity.\n",
    "\n",
    "Classically, these entities are 'users' and 'items', where an item might be a film, a book, a song, etc. However, because we don't have data about the interactions between users of wellcomecollection.org and its works, we're instead going to train a recommender system to predict the interactions between works and the subjects they're tagged with.\n",
    "\n",
    "The hope is that we'll then be able to make recommendations for subjects which could appear on another work, based on the other subjects which it has been tagged with. We might also be able to use some of the features learned along to way to explore the similarity between works, or between subjects.\n",
    "\n",
    "## 9.1 Model architecture\n",
    "\n",
    "This class of problem is known as a [collaborative filtering](https://en.wikipedia.org/wiki/Collaborative_filtering) problem, and there are a number of different approaches to solving it. We're going to use a relatively simple technique called [matrix factorisation](https://en.wikipedia.org/wiki/Matrix_factorization_(recommender_systems)).\n",
    "\n",
    "First, we'll create a matrix to represent interactions between works and subjects. The interaction matrix should be binary, where the value of each element `(i, j)` is 1 if the work `i` is tagged with the subject `j`, and 0 otherwise. This interaction matrix will be what our model is trained to predict. Because we're representing the interaction between all possible works and all possible subjects, the interaction matrix will be very large, and very sparse.\n",
    "\n",
    "Target interaction matrix shape: `(n_works, n_subjects)`\n",
    "\n",
    "Then, we'll create two sets of randomly-initialised embeddings, one for works and one for subjects, with a shared dimensionality. \n",
    "\n",
    "Work embedding matrix shape: `(n_works, embedding_dim)`\n",
    "\n",
    "Subject embedding matrix shape: `(n_subjects, embedding_dim)`\n",
    "\n",
    "We'll multiply these two matrices together to get a matrix of predicted interactions between works and subjects.\n",
    "\n",
    "Predicted interaction matrix shape: `(n_works, n_subjects)`\n",
    "\n",
    "We'll then train the model by incrementally tweaking the embeddings for all of our works and subjects, making slightly better predictions about the likely interactions between works and subjects each time. We'll use the [binary cross entropy](https://en.wikipedia.org/wiki/Cross_entropy) error loss function to measure our progress along the way."
   ]
  },
  {
   "cell_type": "code",
   "execution_count": null,
   "metadata": {},
   "outputs": [],
   "source": [
    "import json\n",
    "import pandas as pd\n",
    "from pathlib import Path\n",
    "import numpy as np\n",
    "from tqdm.auto import tqdm"
   ]
  },
  {
   "attachments": {},
   "cell_type": "markdown",
   "metadata": {},
   "source": [
    "## 9.2 Building the target interaction matrix\n",
    "\n",
    "First, we need to load all of the works and keep track of which subjects exist on each one. We'll do this by loading the local `works.json` snapshot (see the notebook on snapshots to download this if you haven't already!). We'll then iterate over the works and subjects, and create a dictionary mapping from work ID to a list of subject IDs."
   ]
  },
  {
   "cell_type": "code",
   "execution_count": null,
   "metadata": {},
   "outputs": [],
   "source": [
    "works_path = Path(\"./data/works.json\")\n",
    "n_works = sum(1 for line in open(works_path))"
   ]
  },
  {
   "cell_type": "code",
   "execution_count": null,
   "metadata": {},
   "outputs": [],
   "source": [
    "n_works"
   ]
  },
  {
   "cell_type": "code",
   "execution_count": null,
   "metadata": {},
   "outputs": [],
   "source": [
    "subject_dict = {}\n",
    "\n",
    "with open(works_path, \"r\") as f:\n",
    "    for i, line in tqdm(enumerate(f), total=n_works):\n",
    "        work = json.loads(line)\n",
    "        if len(work[\"subjects\"]) == 0:\n",
    "            continue\n",
    "        try:\n",
    "            subject_dict[work[\"id\"]] = []\n",
    "            for subject in work[\"subjects\"]:\n",
    "                for concept in subject[\"concepts\"]:\n",
    "                    subject_dict[work[\"id\"]].append(concept[\"id\"])\n",
    "        except KeyError:\n",
    "            continue"
   ]
  },
  {
   "cell_type": "code",
   "execution_count": null,
   "metadata": {},
   "outputs": [],
   "source": [
    "len(subject_dict)"
   ]
  },
  {
   "attachments": {},
   "cell_type": "markdown",
   "metadata": {},
   "source": [
    "Now we can start building the target interaction matrix. We'll use the `scipy.sparse` module to create a [sparse matrix](https://en.wikipedia.org/wiki/Sparse_matrix) with the correct shape, and then iterate over the dictionary we just created, setting the value of each element in the matrix to 1."
   ]
  },
  {
   "cell_type": "code",
   "execution_count": null,
   "metadata": {},
   "outputs": [],
   "source": [
    "from scipy.sparse import csr_matrix\n",
    "from sklearn.preprocessing import MultiLabelBinarizer"
   ]
  },
  {
   "cell_type": "code",
   "execution_count": null,
   "metadata": {},
   "outputs": [],
   "source": [
    "mlb = MultiLabelBinarizer()\n",
    "mlb.fit(subject_dict.values())\n",
    "\n",
    "len(mlb.classes_)\n",
    "mlb.classes_\n",
    "\n",
    "subject_matrix = csr_matrix(\n",
    "    (\n",
    "        np.ones(sum(len(v) for v in subject_dict.values())),\n",
    "        (\n",
    "            np.repeat(list(subject_dict.keys()), [len(v) for v in subject_dict.values()]),\n",
    "            np.concatenate(list(subject_dict.values())),\n",
    "        ),\n",
    "    )\n",
    ")"
   ]
  },
  {
   "attachments": {},
   "cell_type": "markdown",
   "metadata": {},
   "source": [
    "## 9.3 Building our embedding layers\n",
    "\n",
    "Now that we've got a sparse matrix of interactions, we can begin modelling the features which will go into the calculation of our predictions. We'll start by creating two embedding layers, one for works and one for subjects. We'll use the `torch.nn.Embedding` class to do this. We'll set the size of the embedding to 10, which means that each work and subject will be represented by a vector of 10 floating point numbers. We'll create one embedding for each unique work, and one for each unique subject."
   ]
  },
  {
   "cell_type": "code",
   "execution_count": null,
   "metadata": {},
   "outputs": [],
   "source": [
    "import torch\n",
    "from torch.nn import Embedding"
   ]
  },
  {
   "cell_type": "code",
   "execution_count": null,
   "metadata": {},
   "outputs": [],
   "source": [
    "unique_work_ids = list(subject_dict.keys())\n",
    "unique_subjects = list(\n",
    "    set([subject for subjects in subject_dict.values() for subject in subjects])\n",
    ")\n",
    "\n",
    "len(unique_work_ids), len(unique_subjects)"
   ]
  },
  {
   "cell_type": "code",
   "execution_count": null,
   "metadata": {},
   "outputs": [],
   "source": [
    "work_embeddings = Embedding(\n",
    "    num_embeddings=len(unique_work_ids), embedding_dim=10\n",
    ")\n",
    "\n",
    "subject_embeddings = Embedding(\n",
    "    num_embeddings=len(unique_subjects), embedding_dim=10\n",
    ")\n",
    "\n",
    "work_embeddings.weight.shape, subject_embeddings.weight.shape"
   ]
  },
  {
   "attachments": {},
   "cell_type": "markdown",
   "metadata": {},
   "source": [
    "These embedding layers can be multiplied together to produce a matrix of predicted interactions between works and subjects. We'll use `torch.matmul` to do the matrix multiplication."
   ]
  },
  {
   "cell_type": "code",
   "execution_count": null,
   "metadata": {},
   "outputs": [],
   "source": [
    "a = torch.matmul(\n",
    "    work_embeddings.weight[:100], subject_embeddings.weight[:100].T\n",
    ")\n",
    "a"
   ]
  },
  {
   "cell_type": "code",
   "execution_count": null,
   "metadata": {},
   "outputs": [],
   "source": [
    "a.shape"
   ]
  },
  {
   "attachments": {},
   "cell_type": "markdown",
   "metadata": {},
   "source": [
    "That's the core of our model! The predictions might not be meaningful at the moment (we're just multiplying two random matrices together), but we can train the model to make better predictions by tweaking the values of the embeddings.\n",
    "\n",
    "## 9.4 Grouping our layers into a model\n",
    "\n",
    "Before we begin training our model, we should wrap our embedding layers up into a single model class. We'll use the `torch.nn.Module` class to do this, giving us access to all sorts of pytorch magic with very little effort. \n",
    "\n",
    "We'll need to add a `.forward()` method to the class, which will be used to calculate predictions during each training step, and at inference time."
   ]
  },
  {
   "cell_type": "code",
   "execution_count": null,
   "metadata": {},
   "outputs": [],
   "source": [
    "from torch.nn import Module\n",
    "\n",
    "class Recommender(Module):\n",
    "    def __init__(self, n_works, n_subjects, embedding_dim):\n",
    "        super().__init__()\n",
    "        self.work_embeddings = Embedding(\n",
    "            num_embeddings=n_works, embedding_dim=embedding_dim\n",
    "        )\n",
    "        self.subject_embeddings = Embedding(\n",
    "            num_embeddings=n_subjects, embedding_dim=embedding_dim\n",
    "        )\n",
    "\n",
    "    def forward(self, work_ids, subject_ids):\n",
    "        work_embeddings = self.work_embeddings(work_ids)\n",
    "        subject_embeddings = self.subject_embeddings(subject_ids)\n",
    "        predictions = torch.matmul(work_embeddings, subject_embeddings.T)\n",
    "        return torch.sigmoid(predictions)"
   ]
  },
  {
   "cell_type": "code",
   "execution_count": null,
   "metadata": {},
   "outputs": [],
   "source": [
    "model = Recommender(\n",
    "    n_works=len(unique_work_ids), \n",
    "    n_subjects=len(unique_subjects), \n",
    "    embedding_dim=10\n",
    ")"
   ]
  },
  {
   "attachments": {},
   "cell_type": "markdown",
   "metadata": {},
   "source": [
    "# 9.5 Training the model\n",
    "\n",
    "Now that we've got a model, we need to come up with a way of training it. Typically, machine learning models are trained using a technique called [stochastic gradient descent](https://en.wikipedia.org/wiki/Stochastic_gradient_descent). This involves taking a small batch of training examples, calculating the error for each one, and then using the average error to calculate the gradient of the error function with respect to each of the model's parameters. The parameters are then updated by a small amount in the direction of the gradient, and the process is repeated.\n",
    "\n",
    "Our interaction matrix is huge, and sparsely populated, so training on the whole thing at once would be very slow. Instead, we'll randomly sample a small batch of interactions from the matrix, and train on those, incrementally updating the weights. We'll do this repeatedly, until we've seen every interaction in the matrix at least once.\n",
    "\n",
    "This process will be wrapped up into a custom `BatchGenerator` class."
   ]
  },
  {
   "cell_type": "code",
   "execution_count": null,
   "metadata": {},
   "outputs": [],
   "source": [
    "class BatchGenerator:\n",
    "    def __init__(self, subject_dict, batch_size):\n",
    "        self.subject_dict = subject_dict\n",
    "        self.batch_size = batch_size\n",
    "        self.n_batches = len(subject_dict) // batch_size\n",
    "        self.work_ids = list(self.subject_dict.keys())\n",
    "        self.work_id_to_index = {\n",
    "            work_id: i for i, work_id in enumerate(self.work_ids)\n",
    "        }\n",
    "        self.index_to_work_id = {\n",
    "            i: work_id for i, work_id in enumerate(self.work_ids)\n",
    "        }\n",
    "\n",
    "        self.unique_subjects = list(\n",
    "            set(\n",
    "                [\n",
    "                    subject\n",
    "                    for subjects in subject_dict.values()\n",
    "                    for subject in subjects\n",
    "                ]\n",
    "            )\n",
    "        )\n",
    "        self.subject_to_index = {\n",
    "            subject: i for i, subject in enumerate(self.unique_subjects)\n",
    "        }\n",
    "        self.index_to_subject = {\n",
    "            i: subject for i, subject in enumerate(self.unique_subjects)\n",
    "        }\n",
    "\n",
    "    def __len__(self):\n",
    "        return self.n_batches\n",
    "\n",
    "    def __iter__(self):\n",
    "        \"\"\"\n",
    "        Yields a tuple of work_ids and subject_ids, and the target\n",
    "        adjacency matrix for each batch.\n",
    "        \"\"\"\n",
    "        # split the work ids into randomly shuffled batches\n",
    "        work_ids_batches = np.array_split(\n",
    "            np.random.permutation(self.work_ids), self.n_batches\n",
    "        )\n",
    "        for work_ids_batch in work_ids_batches:\n",
    "            # get the work ids for each work in the batch\n",
    "            work_ids = [\n",
    "                self.work_id_to_index[work_id] for work_id in work_ids_batch\n",
    "            ]\n",
    "\n",
    "            # get the subset of subjects which appear on the works in the batch.\n",
    "            # this is the set of subjects we want to predict against for each work\n",
    "            # in the batch.\n",
    "            subject_ids = [\n",
    "                self.subject_to_index[subject]\n",
    "                for work_id in work_ids_batch\n",
    "                for subject in self.subject_dict[work_id]\n",
    "            ]\n",
    "\n",
    "            # create the target adjacency matrix using the work ids and subject\n",
    "            # ids\n",
    "            target_adjacency_matrix = torch.zeros(\n",
    "                len(work_ids), len(subject_ids)\n",
    "            )\n",
    "\n",
    "            for i, work_id in enumerate(work_ids_batch):\n",
    "                for subject in self.subject_dict[work_id]:\n",
    "                    j = subject_ids.index(self.subject_to_index[subject])\n",
    "                    target_adjacency_matrix[i, j] = 1\n",
    "\n",
    "            yield (\n",
    "                torch.tensor(work_ids),\n",
    "                torch.tensor(subject_ids),\n",
    "                target_adjacency_matrix,\n",
    "            )"
   ]
  },
  {
   "cell_type": "markdown",
   "metadata": {},
   "source": [
    "We'll use the `Adam` optimiser to update the weights of our model at each step. Adam is a variant of stochastic gradient descent which uses a slightly more sophisticated update rule, and is generally more effective than raw SGD."
   ]
  },
  {
   "cell_type": "code",
   "execution_count": null,
   "metadata": {},
   "outputs": [],
   "source": [
    "from torch.optim import Adam\n",
    "\n",
    "optimizer = Adam(params=model.parameters(), lr=0.001)"
   ]
  },
  {
   "cell_type": "markdown",
   "metadata": {},
   "source": [
    "Our optimiser will be led by a `BinaryCrossEntropyLoss` loss function, which will calculate the error between our predictions and the target interactions."
   ]
  },
  {
   "cell_type": "code",
   "execution_count": null,
   "metadata": {},
   "outputs": [],
   "source": [
    "from torch.nn import BCELoss\n",
    "\n",
    "binary_cross_entropy = BCELoss()"
   ]
  },
  {
   "cell_type": "markdown",
   "metadata": {},
   "source": [
    "We can now set our model training, using a batch size of 512, and training for 10 epochs. As usual, we'll keep track of the loss at each step, and plot it at the end."
   ]
  },
  {
   "cell_type": "code",
   "execution_count": null,
   "metadata": {},
   "outputs": [],
   "source": [
    "n_epochs = 10\n",
    "batch_size = 512\n",
    "\n",
    "losses = []\n",
    "progress_bar = tqdm(range(n_epochs * (len(subject_dict) // batch_size)), unit=\"batches\")\n",
    "for epoch in progress_bar:\n",
    "    progress_bar.set_description(f\"Epoch {epoch}\")\n",
    "    batch_generator = BatchGenerator(subject_dict, batch_size=batch_size)\n",
    "    for work_ids, subject_ids, target_adjacency_matrix in batch_generator:\n",
    "        predictions = model(work_ids, subject_ids)\n",
    "        loss = binary_cross_entropy(predictions, target_adjacency_matrix)\n",
    "\n",
    "        optimizer.zero_grad()\n",
    "        loss.backward()\n",
    "        optimizer.step()\n",
    "\n",
    "        losses.append(loss.item())\n",
    "        progress_bar.set_postfix({\n",
    "            \"BCE\": np.mean(losses[-100:]),\n",
    "        })\n",
    "        progress_bar.update()"
   ]
  },
  {
   "cell_type": "code",
   "execution_count": null,
   "metadata": {},
   "outputs": [],
   "source": [
    "from matplotlib import pyplot as plt\n",
    "\n",
    "plt.plot(losses)"
   ]
  },
  {
   "cell_type": "code",
   "execution_count": null,
   "metadata": {},
   "outputs": [],
   "source": [
    "# plot the log of the loss to see the trend more clearly\n",
    "plt.plot(np.log(losses))"
   ]
  },
  {
   "attachments": {},
   "cell_type": "markdown",
   "metadata": {},
   "source": [
    "## 9.6 Making predictions\n",
    "\n",
    "We can now use our trained model to make predictions about the interactions between works and subjects. If we select a random work (and find its trained embedding) we can multiply it by the subject embeddings to get a vector of predicted interactions between that work and each subject. We can then sort the subjects by their predicted interaction, and select the 10 highest scoring subjects. These are the subjects which our model thinks are most likely to be relevant to the work."
   ]
  },
  {
   "cell_type": "code",
   "execution_count": null,
   "metadata": {},
   "outputs": [],
   "source": [
    "model.eval()\n",
    "\n",
    "work_embeddings = model.work_embeddings.weight.detach().numpy()\n",
    "subject_embeddings = model.subject_embeddings.weight.detach().numpy()"
   ]
  },
  {
   "cell_type": "code",
   "execution_count": null,
   "metadata": {},
   "outputs": [],
   "source": [
    "random_work_id = np.random.choice(unique_work_ids)\n",
    "random_work_index = unique_work_ids.index(random_work_id)"
   ]
  },
  {
   "cell_type": "markdown",
   "metadata": {},
   "source": [
    "Let's use the API to find out what this work is"
   ]
  },
  {
   "cell_type": "code",
   "execution_count": null,
   "metadata": {},
   "outputs": [],
   "source": [
    "base_url = \"https://api.wellcomecollection.org/catalogue/v2/\"\n",
    "work_url = f\"{base_url}works/{random_work_id}\""
   ]
  },
  {
   "cell_type": "code",
   "execution_count": null,
   "metadata": {},
   "outputs": [],
   "source": [
    "import requests\n",
    "\n",
    "requests.get(work_url).json()[\"title\"]"
   ]
  },
  {
   "cell_type": "markdown",
   "metadata": {},
   "source": [
    "Let's find its embedding"
   ]
  },
  {
   "cell_type": "code",
   "execution_count": null,
   "metadata": {},
   "outputs": [],
   "source": [
    "random_work_embedding = work_embeddings[random_work_index]\n",
    "random_work_embedding"
   ]
  },
  {
   "cell_type": "markdown",
   "metadata": {},
   "source": [
    "And make some predictions about which subjects it's likely to be tagged with"
   ]
  },
  {
   "cell_type": "code",
   "execution_count": null,
   "metadata": {},
   "outputs": [],
   "source": [
    "predictions = np.matmul(\n",
    "    random_work_embedding, subject_embeddings.T\n",
    ")\n",
    "\n",
    "top_predicted_subject_indexes = predictions.argsort()[::-1][:10]"
   ]
  },
  {
   "cell_type": "code",
   "execution_count": null,
   "metadata": {},
   "outputs": [],
   "source": [
    "predicted_concept_ids = [\n",
    "    unique_subjects[index] for index in top_predicted_subject_indexes\n",
    "]\n",
    "\n",
    "predicted_concept_ids"
   ]
  },
  {
   "cell_type": "markdown",
   "metadata": {},
   "source": [
    "Let's have a look at the top 10 predicted subjects' labels"
   ]
  },
  {
   "cell_type": "code",
   "execution_count": null,
   "metadata": {},
   "outputs": [],
   "source": [
    "for concept_id in predicted_concept_ids:\n",
    "    concept_url = f\"{base_url}concepts/{concept_id}\"\n",
    "    label = requests.get(concept_url).json()[\"label\"]\n",
    "    print(label)"
   ]
  },
  {
   "cell_type": "markdown",
   "metadata": {},
   "source": [
    "## 9.7 Visualising the embeddings\n",
    "\n",
    "We can also visualise the similarity of the embeddings we've learned, in the same way as we did for the text embeddings in the previous notebook. Again, we'll use the [UMAP](https://umap-learn.readthedocs.io/en/latest/) algorithm to reduce the dimensionality of the embeddings to 2, and then plot them on a scatter plot."
   ]
  },
  {
   "cell_type": "code",
   "execution_count": null,
   "metadata": {},
   "outputs": [],
   "source": [
    "from umap import UMAP\n",
    "\n",
    "reducer = UMAP(n_components=2)\n",
    "subject_embeddings_2d = reducer.fit_transform(subject_embeddings)\n",
    "\n",
    "subject_embeddings_2d.shape"
   ]
  },
  {
   "cell_type": "code",
   "execution_count": null,
   "metadata": {},
   "outputs": [],
   "source": [
    "from matplotlib import pyplot as plt\n",
    "\n",
    "plt.figure(figsize=(20, 20))\n",
    "plt.scatter(\n",
    "    subject_embeddings_2d[:, 0], \n",
    "    subject_embeddings_2d[:, 1], \n",
    "    alpha=0.2, \n",
    "    c=\"k\",\n",
    "    s=5\n",
    ")\n",
    "plt.show()"
   ]
  },
  {
   "cell_type": "markdown",
   "metadata": {},
   "source": [
    "## Exercises\n",
    "\n",
    "1. Try training the model for longer, or with a different batch size. How does this affect the loss, and the quality of the corresponding predictions?\n",
    "2. Try changing the size of the embedding. How does this affect the loss, and the quality of the corresponding predictions?\n",
    "3. Can you think of a way of incorporating more prior information into the embeddings? Can you make these constraints trainable in the model's backward pass?"
   ]
  },
  {
   "cell_type": "markdown",
   "metadata": {},
   "source": []
  }
 ],
 "metadata": {
  "kernelspec": {
   "display_name": "Python 3",
   "language": "python",
   "name": "python3"
  },
  "language_info": {
   "codemirror_mode": {
    "name": "ipython",
    "version": 3
   },
   "file_extension": ".py",
   "mimetype": "text/x-python",
   "name": "python",
   "nbconvert_exporter": "python",
   "pygments_lexer": "ipython3",
   "version": "3.10.11"
  }
 },
 "nbformat": 4,
 "nbformat_minor": 2
}
