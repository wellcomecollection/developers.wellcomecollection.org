{
 "cells": [
  {
   "attachments": {},
   "cell_type": "markdown",
   "metadata": {
    "id": "F3uKKj5d1fC0"
   },
   "source": [
    "# 4. Building graphs of visually similar images"
   ]
  },
  {
   "attachments": {},
   "cell_type": "markdown",
   "metadata": {
    "id": "knXbkZkQYkaZ"
   },
   "source": [
    "In the last notebook, we introduced the ability to fetch visually similar images using the `/images` API.\n",
    "\n",
    "One of the exercises at the end of the notebook asked you to fetch an image's visually similar images, and then fetch the visually similar images of _all of those_ images.\n",
    "\n",
    "We can think of this process as incrementally building a graph of images, connected each image by their similarity. Nodes are images, and edges exist between the images which are visually similar. In this notebook, we'll develop some code to build and visualize these graphs.\n",
    "\n",
    "It might also be nice to compare graphs which use different images as their starting points. Do graphs which start at different regions of the image space look different? Do they have different characteristics?\n",
    "\n",
    "We're going to use a library called networkx to build our graphs. Let's import that, and a few more libraries we'll need."
   ]
  },
  {
   "cell_type": "code",
   "execution_count": null,
   "metadata": {
    "id": "8o8_fG0sYk6K"
   },
   "outputs": [],
   "source": [
    "# for graphs\n",
    "import networkx as nx\n",
    "\n",
    "# for making requests to the API and fetching images\n",
    "import requests\n",
    "\n",
    "# for processing images\n",
    "from io import BytesIO\n",
    "from PIL import Image"
   ]
  },
  {
   "attachments": {},
   "cell_type": "markdown",
   "metadata": {
    "id": "s8WoF3-UeCB7"
   },
   "source": [
    "## 4.1 Building a graph\n",
    "\n",
    "Let's start by fetching the visually similar images for a single image, using one of the image IDs from the last notebook."
   ]
  },
  {
   "cell_type": "code",
   "execution_count": null,
   "metadata": {
    "id": "s-8-Mdh4cVzt"
   },
   "outputs": [],
   "source": [
    "base_url = \"https://api.wellcomecollection.org/catalogue/v2/\"\n",
    "image_id = \"z5hm94pv\""
   ]
  },
  {
   "cell_type": "code",
   "execution_count": null,
   "metadata": {},
   "outputs": [],
   "source": [
    "response = requests.get(\n",
    "    base_url + \"images/\" + image_id,\n",
    "    params={\"include\": \"visuallySimilar\"},\n",
    ").json()\n",
    "\n",
    "visually_similar_ids = [\n",
    "    image['id'] for image in response[\"visuallySimilar\"]\n",
    "]"
   ]
  },
  {
   "attachments": {},
   "cell_type": "markdown",
   "metadata": {},
   "source": [
    "We can use networkx to create an empty graph object, and then add nodes and edges to it. We'll start by adding our single source image as a node."
   ]
  },
  {
   "cell_type": "code",
   "execution_count": null,
   "metadata": {},
   "outputs": [],
   "source": [
    "graph = nx.Graph()\n",
    "graph.add_node(image_id)"
   ]
  },
  {
   "attachments": {},
   "cell_type": "markdown",
   "metadata": {},
   "source": [
    "We can now add the visually similar images as nodes, and add edges between the source image and each of the visually similar images."
   ]
  },
  {
   "cell_type": "code",
   "execution_count": null,
   "metadata": {},
   "outputs": [],
   "source": [
    "for similar_id in visually_similar_ids:\n",
    "    graph.add_node(similar_id, color=\"green\")\n",
    "    graph.add_edge(image_id, similar_id)"
   ]
  },
  {
   "attachments": {},
   "cell_type": "markdown",
   "metadata": {},
   "source": [
    "`networkx` has a function called `draw()` which we can use to visualize our graph. Let's try that out."
   ]
  },
  {
   "cell_type": "code",
   "execution_count": null,
   "metadata": {},
   "outputs": [],
   "source": [
    "nx.draw(graph)"
   ]
  },
  {
   "attachments": {},
   "cell_type": "markdown",
   "metadata": {},
   "source": [
    "Now, let's fetch the next set of visually similar images - 5 new possible connections for each of the visually similar images which we just added. We'll add those to the graph, and then visualize it again."
   ]
  },
  {
   "cell_type": "code",
   "execution_count": null,
   "metadata": {},
   "outputs": [],
   "source": [
    "for first_round_similar_id in visually_similar_ids:\n",
    "    response = requests.get(\n",
    "        base_url + \"images/\" + first_round_similar_id,\n",
    "        params={\"include\": \"visuallySimilar\"},\n",
    "    ).json()\n",
    "\n",
    "    second_round_similar_ids = [\n",
    "        image['id'] for image in response[\"visuallySimilar\"]\n",
    "    ]\n",
    "\n",
    "    for similar_id in second_round_similar_ids:\n",
    "        # make these nodes a different colour\n",
    "        graph.add_node(similar_id)\n",
    "        graph.add_edge(first_round_similar_id, similar_id)"
   ]
  },
  {
   "cell_type": "code",
   "execution_count": null,
   "metadata": {},
   "outputs": [],
   "source": [
    "nx.draw(graph)"
   ]
  },
  {
   "attachments": {},
   "cell_type": "markdown",
   "metadata": {},
   "source": [
    "Great! Notice that some of the connections are shared between sets of visually similar images. Note also that some of the first round images have fewer than 5 further connections. This happens when some of the visually similar images are already in the graph!\n",
    "\n",
    "Let's wipe the slate clean and keep exploring."
   ]
  },
  {
   "cell_type": "code",
   "execution_count": null,
   "metadata": {},
   "outputs": [],
   "source": [
    "graph.clear()"
   ]
  },
  {
   "attachments": {},
   "cell_type": "markdown",
   "metadata": {},
   "source": [
    "We can wrap this functionality up in a single function, which will take any image ID and build a graph of visually similar images up to `n` levels deep."
   ]
  },
  {
   "cell_type": "code",
   "execution_count": null,
   "metadata": {
    "id": "05AE-JgsLrcF"
   },
   "outputs": [],
   "source": [
    "def build_graph(source_id, n):\n",
    "    graph = nx.Graph()\n",
    "\n",
    "    graph.add_node(source_id)\n",
    "\n",
    "    image_ids_to_fetch = [source_id]\n",
    "\n",
    "    for _ in range(n):\n",
    "        new_image_ids = []\n",
    "        for image_id in image_ids_to_fetch:\n",
    "            res = requests.get(\n",
    "                base_url + \"images/\" + image_id,\n",
    "                params={\"include\": \"visuallySimilar\"},\n",
    "            ).json()\n",
    "\n",
    "            for similar_image in res[\"visuallySimilar\"]:\n",
    "                graph.add_node(similar_image[\"id\"])\n",
    "                graph.add_edge(image_id, similar_image[\"id\"])\n",
    "\n",
    "                new_image_ids.append(similar_image[\"id\"])\n",
    "\n",
    "        image_ids_to_fetch = new_image_ids\n",
    "\n",
    "    return graph"
   ]
  },
  {
   "cell_type": "code",
   "execution_count": null,
   "metadata": {
    "id": "WTB1dN3ZRW0x"
   },
   "outputs": [],
   "source": [
    "graph = build_graph(\"xmcz3cgb\", 3)"
   ]
  },
  {
   "cell_type": "code",
   "execution_count": null,
   "metadata": {
    "colab": {
     "base_uri": "https://localhost:8080/"
    },
    "id": "Z3kUj2o8RrpJ",
    "outputId": "3a39ad75-5f61-4119-81e1-d0462c3f4c55"
   },
   "outputs": [],
   "source": [
    "len(graph.nodes)"
   ]
  },
  {
   "cell_type": "code",
   "execution_count": null,
   "metadata": {
    "colab": {
     "base_uri": "https://localhost:8080/",
     "height": 516
    },
    "id": "Tj-sXYuDR24W",
    "outputId": "9cbaef44-30de-4bc8-8f75-765a9dc2aab7"
   },
   "outputs": [],
   "source": [
    "nx.draw(graph)"
   ]
  },
  {
   "attachments": {},
   "cell_type": "markdown",
   "metadata": {
    "id": "UI3Odo0io-W5"
   },
   "source": [
    "## 4.2 Characterising graphs\n",
    "\n",
    "Now that we have a function which can build a graph of visually similar images, let's use it to build a few graphs and see how different graphs behave."
   ]
  },
  {
   "cell_type": "code",
   "execution_count": null,
   "metadata": {},
   "outputs": [],
   "source": [
    "graph_1 = build_graph(\"esyjaets\", 2)\n",
    "\n",
    "# a different source image\n",
    "graph_2 = build_graph(\"xmcz3cgb\", 2)\n",
    "\n",
    "# same id as graph_2, but with a different depth\n",
    "graph_3 = build_graph(\"xmcz3cgb\", 3)"
   ]
  },
  {
   "attachments": {},
   "cell_type": "markdown",
   "metadata": {},
   "source": [
    "We can use various metrics to get a sense of what's going on in the graph, without visualising it.\n",
    "\n",
    "The _density_ of a graph gives an indication of how connected it is. Density values for regular graphs are are given between 0-1, where a graph without any edges has density 0, and a completely connected graph (where every possible edge between nodes exists) has a density of 1."
   ]
  },
  {
   "cell_type": "code",
   "execution_count": null,
   "metadata": {
    "colab": {
     "base_uri": "https://localhost:8080/"
    },
    "id": "wg8_8zCIblEW",
    "outputId": "31ba3c76-3259-4c88-ec2b-4b8584c60c2a"
   },
   "outputs": [],
   "source": [
    "print(\n",
    "    nx.density(graph_1),\n",
    "    nx.density(graph_2),\n",
    "    nx.density(graph_3),\n",
    ")"
   ]
  },
  {
   "attachments": {},
   "cell_type": "markdown",
   "metadata": {
    "id": "sVBcJHW3qkdY"
   },
   "source": [
    "It makes sense that as we add more nodes and edges to the graph, the density will decrease, as each new node only adds one new edge out of many possible edges. That number of possible edges only increases as we take more steps away from the source image.\n",
    "\n",
    "## 4.3 Better visualizations\n",
    "\n",
    "It might be more interesting to look at the images themselves in our graph visualisations, rather than just plotting dots and lines. We might then notice patterns in _why_ clusters of visually similar images exist in the graph. \n",
    "\n",
    "Let's use some code adapted from [the networkx documentation](https://networkx.org/documentation/stable/auto_examples/drawing/plot_custom_node_icons.html) to do this."
   ]
  },
  {
   "cell_type": "code",
   "execution_count": null,
   "metadata": {
    "id": "KucJpx4JQpZi"
   },
   "outputs": [],
   "source": [
    "import urllib\n",
    "import matplotlib.pyplot as plt\n",
    "import numpy as np\n",
    "\n",
    "def draw_images_on_nodes_of_graph(graph):\n",
    "    pos = nx.spring_layout(graph, seed=1734289230)\n",
    "    fig, ax = plt.subplots(figsize=(20, 20))\n",
    "\n",
    "    nx.draw_networkx_edges(\n",
    "        graph,\n",
    "        pos=pos,\n",
    "        ax=ax,\n",
    "    )\n",
    "\n",
    "    for image_id in graph.nodes:\n",
    "        image_data = requests.get(base_url + \"images/\" + image_id).json()\n",
    "        image_url = image_data[\"thumbnail\"][\"url\"]\n",
    "        image_url = image_url.replace(\"info.json\", \"full/400,/0/default.jpg\")\n",
    "        image_response = urllib.request.urlopen(image_url)\n",
    "        image = np.array(Image.open(image_response))\n",
    "        graph.nodes[image_id][\"image\"] = image\n",
    "\n",
    "    tr_figure = ax.transData.transform\n",
    "    tr_axes = fig.transFigure.inverted().transform\n",
    "\n",
    "    image_size = (ax.get_xlim()[1] - ax.get_xlim()[0]) * 0.01\n",
    "    image_center = image_size / 2.0\n",
    "\n",
    "    for n in graph.nodes:\n",
    "        xf, yf = tr_figure(pos[n])\n",
    "        xa, ya = tr_axes((xf, yf))\n",
    "        a = plt.axes(\n",
    "            [xa - image_center, ya - image_center, image_size, image_size]\n",
    "        )\n",
    "        a.imshow(graph.nodes[n][\"image\"], alpha=0.6)\n",
    "        a.axis(\"off\")\n",
    "\n",
    "    plt.show();"
   ]
  },
  {
   "cell_type": "code",
   "execution_count": null,
   "metadata": {},
   "outputs": [],
   "source": [
    "graph_4 = build_graph(\"rdc2bj3e\", 3)"
   ]
  },
  {
   "cell_type": "code",
   "execution_count": null,
   "metadata": {
    "colab": {
     "base_uri": "https://localhost:8080/",
     "height": 1000
    },
    "id": "UYIS9pliWQk0",
    "outputId": "f99f471e-55ea-4714-ab45-6c4491f56805"
   },
   "outputs": [],
   "source": [
    "draw_images_on_nodes_of_graph(graph_4)"
   ]
  },
  {
   "attachments": {},
   "cell_type": "markdown",
   "metadata": {},
   "source": [
    "## Exercises\n",
    "\n",
    "1. Try building graphs from different source images. Do they look different? Do they have different characteristics?\n",
    "2. Try building graphs with different numbers of levels. How does this affect the density of the graph?\n",
    "3. Try using some different metrics to characterise the graphs - I'd suggest looking at the `degree_histogram()` to start with ([see the networkx documentation here](https://networkx.org/documentation/stable/reference/generated/networkx.classes.function.degree_histogram.html#networkx.classes.function.degree_histogram)). What do the different metrics tell you about different graphs graphs? "
   ]
  }
 ],
 "metadata": {
  "colab": {
   "provenance": []
  },
  "kernelspec": {
   "display_name": "Python 3",
   "name": "python3"
  },
  "language_info": {
   "codemirror_mode": {
    "name": "ipython",
    "version": 3
   },
   "file_extension": ".py",
   "mimetype": "text/x-python",
   "name": "python",
   "nbconvert_exporter": "python",
   "pygments_lexer": "ipython3",
   "version": "3.10.11"
  }
 },
 "nbformat": 4,
 "nbformat_minor": 0
}
