{
 "cells": [
  {
   "attachments": {},
   "cell_type": "markdown",
   "metadata": {},
   "source": [
    "# 6. Visualising the collections on a map\n",
    "\n",
    "In this notebook, we're going to use a secondary API to visualise the geographical extent of the collection on a map. \n",
    "\n",
    "The collection contains place names in the `production` field, which describes the time, place, and agents involved in the creation of the work. If we can turn those place names into coordinates, we can visualise the geographical extent of the collection on a map.\n",
    "\n",
    "We'll use the API at [https://geocode.maps.co/](https://geocode.maps.co/) to handle the complicated geocoding for us."
   ]
  },
  {
   "cell_type": "code",
   "execution_count": null,
   "metadata": {},
   "outputs": [],
   "source": [
    "import requests\n",
    "import pandas as pd\n",
    "import time\n",
    "from tqdm.auto import tqdm"
   ]
  },
  {
   "attachments": {},
   "cell_type": "markdown",
   "metadata": {},
   "source": [
    "## 6.1 Geocoding individual place names\n",
    "\n",
    "First, we need to define a function which will turn a place name into a pair of latitude and longitude values. We'll use the `requests` library to make a request to the geocoding API with our place name, and assume that the first result is the correct one. If the API returns a result, we'll return the latitude and longitude coordinates, otherwise we'll return a pair of `None` values."
   ]
  },
  {
   "cell_type": "code",
   "execution_count": null,
   "metadata": {},
   "outputs": [],
   "source": [
    "def geocode_place(place):\n",
    "    \"\"\"Geocode a place name to lat/lon coordinates.\"\"\"\n",
    "    try:\n",
    "\n",
    "        response = requests.get(\n",
    "            \"https://geocode.maps.co/search/\",\n",
    "            params={\"q\": place},\n",
    "        ).json()\n",
    "\n",
    "        lat = float(response[0][\"lat\"])\n",
    "        lon = float(response[0][\"lon\"])\n",
    "\n",
    "        # Add a delay to avoid hitting the API rate limit with multiple requests.\n",
    "        # the rate limit is 2 requests per second, see https://geocode.maps.co/\n",
    "        time.sleep(0.55)\n",
    "\n",
    "        return (lat, lon)\n",
    "    except (IndexError, requests.JSONDecodeError, ConnectionError):\n",
    "        return (None, None)"
   ]
  },
  {
   "cell_type": "code",
   "execution_count": null,
   "metadata": {},
   "outputs": [],
   "source": [
    "geocode_place(\"London\")"
   ]
  },
  {
   "attachments": {},
   "cell_type": "markdown",
   "metadata": {},
   "source": [
    "That looks right to me! \n",
    "\n",
    "## 6.2 Geocoding lots of data\n",
    "\n",
    "Let's download a bunch of works from the collection and store their IDs and place names in a pandas dataframe."
   ]
  },
  {
   "cell_type": "code",
   "execution_count": null,
   "metadata": {},
   "outputs": [],
   "source": [
    "base_url = \"https://api.wellcomecollection.org/catalogue/v2/\"\n",
    "n_works_to_fetch = 500\n",
    "\n",
    "response = requests.get(\n",
    "    base_url + \"works\",\n",
    "    params={\"pageSize\": 100, \"include\": \"production\"},\n",
    ").json()\n",
    "\n",
    "works = response[\"results\"]\n",
    "\n",
    "while \"nextPage\" in response and len(works) < n_works_to_fetch:\n",
    "    response = requests.get(response[\"nextPage\"]).json()\n",
    "    works.extend(response[\"results\"])"
   ]
  },
  {
   "attachments": {},
   "cell_type": "markdown",
   "metadata": {},
   "source": [
    "The place names are stored in the `production` field, which is a list of `ProductionEvent` objects. Let's unpack the place name for the first productionEvent of each work, and store them in a dataframe."
   ]
  },
  {
   "cell_type": "code",
   "execution_count": null,
   "metadata": {},
   "outputs": [],
   "source": [
    "df = pd.DataFrame({}, columns=[\"place\"])\n"
   ]
  },
  {
   "cell_type": "code",
   "execution_count": null,
   "metadata": {},
   "outputs": [],
   "source": [
    "for work in works:\n",
    "    if len(work[\"production\"]) > 0:\n",
    "        production = work[\"production\"][0]\n",
    "        if len(production[\"places\"]) > 0:\n",
    "            df.loc[work[\"id\"]] = production[\"places\"][0][\"label\"]"
   ]
  },
  {
   "attachments": {},
   "cell_type": "markdown",
   "metadata": {},
   "source": [
    "Now we can use our `geocode_place` function to turn our place names into pairs of latitudes and longitudes."
   ]
  },
  {
   "cell_type": "code",
   "execution_count": null,
   "metadata": {},
   "outputs": [],
   "source": [
    "lats, lons = zip(*[geocode_place(place) for place in tqdm(df[\"place\"].values)])"
   ]
  },
  {
   "cell_type": "code",
   "execution_count": null,
   "metadata": {},
   "outputs": [],
   "source": [
    "df[\"lat\"] = lats\n",
    "df[\"lon\"] = lons\n",
    "df"
   ]
  },
  {
   "attachments": {},
   "cell_type": "markdown",
   "metadata": {},
   "source": [
    "Let's have a look at the most common place names in the collection:"
   ]
  },
  {
   "cell_type": "code",
   "execution_count": null,
   "metadata": {},
   "outputs": [],
   "source": [
    "df[\"place\"].value_counts()"
   ]
  },
  {
   "attachments": {},
   "cell_type": "markdown",
   "metadata": {},
   "source": [
    "There are a lot of rows where the API has failed to find a matching place name, eg those `No place, unknown, or undetermined` values. Let's drop those rows from our dataframe."
   ]
  },
  {
   "cell_type": "code",
   "execution_count": null,
   "metadata": {},
   "outputs": [],
   "source": [
    "df[df['place'] == 'No place, unknown, or undetermined']"
   ]
  },
  {
   "cell_type": "code",
   "execution_count": null,
   "metadata": {},
   "outputs": [],
   "source": [
    "df = df.dropna()"
   ]
  },
  {
   "cell_type": "code",
   "execution_count": null,
   "metadata": {},
   "outputs": [],
   "source": [
    "len(df)"
   ]
  },
  {
   "attachments": {},
   "cell_type": "markdown",
   "metadata": {},
   "source": [
    "Let's produce a simple scatter plot of the latitude and longitude values we've found. We'll use the `alpha` parameter to make the points semi-transparent, so that we can see where there are tightly-packed clusters of points."
   ]
  },
  {
   "cell_type": "code",
   "execution_count": null,
   "metadata": {},
   "outputs": [],
   "source": [
    "df.plot.scatter(x=\"lon\", y=\"lat\", alpha=0.1, figsize=(10, 10));"
   ]
  },
  {
   "attachments": {},
   "cell_type": "markdown",
   "metadata": {},
   "source": [
    "## 6.3 Using bounding boxes\n",
    "\n",
    "As well as returning a latitude and longitude value, the geocoding API also returns a bounding box for each place name. We can use these bounding boxes to draw a rectangle around each point on our map, showing the areas where the catalogue records are precise (eg `Paris (Rue des Mathurins)`), or where they're more vague (eg `France`).\n",
    "\n",
    "By plotting a semi-transparent box for each set of coordinates, The areas of the world where the boxes overlap will be darker, indicating that more works were produced in that region."
   ]
  },
  {
   "cell_type": "code",
   "execution_count": null,
   "metadata": {},
   "outputs": [],
   "source": [
    "def geocode_place_bounding_box(place):\n",
    "    \"\"\"Geocode a place name to a bounding box.\"\"\"\n",
    "\n",
    "    try:\n",
    "        response = requests.get(\n",
    "            \"https://geocode.maps.co/search/\",\n",
    "            params={\n",
    "                \"q\": place,\n",
    "            },\n",
    "        ).json()\n",
    "\n",
    "        box = [float(x) for x in response[0][\"boundingbox\"]]\n",
    "\n",
    "        # Add a delay to avoid hitting the API rate limit with multiple requests.\n",
    "        # rate limit is 2 requests per second, see https://geocode.maps.co/\n",
    "        time.sleep(0.55)\n",
    "\n",
    "        return box\n",
    "    except (IndexError, requests.JSONDecodeError, ConnectionError):\n",
    "        return (None, None, None, None)"
   ]
  },
  {
   "cell_type": "code",
   "execution_count": null,
   "metadata": {},
   "outputs": [],
   "source": [
    "lat_1, lat_2, lon_1, lon_2 = zip(\n",
    "    *[geocode_place_bounding_box(place) for place in tqdm(df[\"place\"].values)]\n",
    ")"
   ]
  },
  {
   "cell_type": "code",
   "execution_count": null,
   "metadata": {},
   "outputs": [],
   "source": [
    "df[\"lat_1\"] = lat_1\n",
    "df[\"lat_2\"] = lat_2\n",
    "df[\"lon_1\"] = lon_1\n",
    "df[\"lon_2\"] = lon_2\n",
    "\n",
    "df = df.dropna()"
   ]
  },
  {
   "cell_type": "code",
   "execution_count": null,
   "metadata": {},
   "outputs": [],
   "source": [
    "import matplotlib.pyplot as plt\n",
    "\n",
    "fig, ax = plt.subplots(figsize=(10, 10))\n",
    "\n",
    "for _, row in df.iterrows():\n",
    "    ax.add_patch(\n",
    "        plt.Rectangle(\n",
    "            (row[\"lon_1\"], row[\"lat_1\"]), # bottom left corner\n",
    "            row[\"lon_2\"] - row[\"lon_1\"], # width\n",
    "            row[\"lat_2\"] - row[\"lat_1\"], # height\n",
    "            alpha=0.1,\n",
    "        )\n",
    "    )\n",
    "\n",
    "ax.set_xlim(-180, 180)\n",
    "ax.set_ylim(-90, 90);"
   ]
  },
  {
   "attachments": {},
   "cell_type": "markdown",
   "metadata": {},
   "source": [
    "## Creating an interactive map\n",
    "\n",
    "We can use a library called `folium` to visualise the coordinates on an interactive map.\n",
    "\n",
    "Let's make sure that we've got the latest version of `folium` installed:"
   ]
  },
  {
   "cell_type": "code",
   "execution_count": null,
   "metadata": {},
   "outputs": [],
   "source": [
    "!pip install -U --quiet folium selenium"
   ]
  },
  {
   "cell_type": "markdown",
   "metadata": {},
   "source": [
    "N.B. You won't be able to see this if you're reading the markdown version of this notebook, or viewing it on GitHub. You'll need to run the notebook yourself to see the interactive plot."
   ]
  },
  {
   "cell_type": "code",
   "execution_count": null,
   "metadata": {},
   "outputs": [],
   "source": [
    "import folium\n",
    "\n",
    "m = folium.Map()\n",
    "\n",
    "for _, row in df.iterrows():\n",
    "    folium.CircleMarker(\n",
    "        location=[row[\"lat\"], row[\"lon\"]],\n",
    "        radius=1,\n",
    "        fill = True,\n",
    "        color='red',\n",
    "        fill_color='red'\n",
    "    ).add_to(m)\n",
    "\n",
    "m"
   ]
  },
  {
   "attachments": {},
   "cell_type": "markdown",
   "metadata": {},
   "source": [
    "## Exercises\n",
    "\n",
    "1. Look for more patterns in the data which indicate that the geocoding might be incorrect - can you clean up the data to make the map more accurate?\n",
    "2. Filter the works using a set of lat/lon boundaries, returning everything from a particular region, eg Scotland. Comparing those works to the rest of the data, can you find any similarities or differences? Do any interesting narratives emerge?"
   ]
  },
  {
   "attachments": {},
   "cell_type": "markdown",
   "metadata": {},
   "source": []
  }
 ],
 "metadata": {
  "kernelspec": {
   "display_name": "Python 3",
   "language": "python",
   "name": "python3"
  },
  "language_info": {
   "codemirror_mode": {
    "name": "ipython",
    "version": 3
   },
   "file_extension": ".py",
   "mimetype": "text/x-python",
   "name": "python",
   "nbconvert_exporter": "python",
   "pygments_lexer": "ipython3",
   "version": "3.10.11"
  }
 },
 "nbformat": 4,
 "nbformat_minor": 2
}
