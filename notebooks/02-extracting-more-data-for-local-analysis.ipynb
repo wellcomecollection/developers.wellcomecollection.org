{
 "cells": [
  {
   "attachments": {},
   "cell_type": "markdown",
   "metadata": {},
   "source": [
    "# 2. Extracting more data for local analysis\n",
    "\n",
    "In the last notebook, we saw that the `/works` API can do some clever querying and filtering. However, we often have questions which can't be answered by the API by itself. In those cases, it's useful to collect a load of data from the API and then analyse it locally.\n",
    "\n",
    "In this notebook, we'll try to query the API for bigger chunks of data so that we can answer a more interesting question.\n",
    "\n",
    "We'll aim to find out:\n",
    "\n",
    "> If we filter the works API for a set of subjects, can we find the other subjects that most commonly co-occur with them?\n",
    "\n",
    "We'll start by fetching all of the works which are tagged with a single subject.\n",
    "\n",
    "Here's our base URL again:"
   ]
  },
  {
   "cell_type": "code",
   "execution_count": null,
   "metadata": {},
   "outputs": [],
   "source": [
    "base_url = \"https://api.wellcomecollection.org/catalogue/v2/\""
   ]
  },
  {
   "attachments": {},
   "cell_type": "markdown",
   "metadata": {},
   "source": [
    "Lets' make a request to the API, asking for all the works which are tagged with the subject \"Influenza\"."
   ]
  },
  {
   "cell_type": "code",
   "execution_count": null,
   "metadata": {},
   "outputs": [],
   "source": [
    "import requests\n",
    "\n",
    "response = requests.get(\n",
    "    base_url + \"works\", params={\"subjects.label\": \"Influenza\"}\n",
    ").json()"
   ]
  },
  {
   "cell_type": "code",
   "execution_count": null,
   "metadata": {},
   "outputs": [],
   "source": [
    "response[\"totalResults\"]"
   ]
  },
  {
   "attachments": {},
   "cell_type": "markdown",
   "metadata": {},
   "source": [
    "## 2.1 Page sizes"
   ]
  },
  {
   "cell_type": "code",
   "execution_count": null,
   "metadata": {},
   "outputs": [],
   "source": [
    "response[\"totalPages\"]"
   ]
  },
  {
   "cell_type": "code",
   "execution_count": null,
   "metadata": {},
   "outputs": [],
   "source": [
    "len(response[\"results\"])"
   ]
  },
  {
   "attachments": {},
   "cell_type": "markdown",
   "metadata": {},
   "source": [
    "At the moment, we're getting our results spread across 9 pages, because `pageSize` is set to 10 by default. \n",
    "\n",
    "We can increase the `pageSize` to get all of our 81 works in one go (up to a maximum of 100):"
   ]
  },
  {
   "cell_type": "code",
   "execution_count": null,
   "metadata": {},
   "outputs": [],
   "source": [
    "import requests\n",
    "\n",
    "response = requests.get(\n",
    "    base_url + \"works\", params={\"subjects.label\": \"Influenza\", \"pageSize\": 100}\n",
    ").json()"
   ]
  },
  {
   "cell_type": "code",
   "execution_count": null,
   "metadata": {},
   "outputs": [],
   "source": [
    "response[\"totalResults\"]\n"
   ]
  },
  {
   "cell_type": "code",
   "execution_count": null,
   "metadata": {},
   "outputs": [],
   "source": [
    "response[\"totalPages\"]"
   ]
  },
  {
   "attachments": {},
   "cell_type": "markdown",
   "metadata": {},
   "source": [
    "## 2.2 Requesting multiple pages of results\n",
    "\n",
    "Some subjects only appear on a few works, but others appear on thousands. If we want to be able to analyse those larger subjects, we'll need to fetch more than 100 works at a time. To do this, we'll page through the results, making multiple requests and building a local list of results as we go.\n",
    "\n",
    "If the API finds more than one page of results for a query, it will provide a `nextPage` field in the response, with a link to the next page of results. We can use this to fetch the next page of results, and the next, and the next, until the `nextPage` field is no longer present, at which point we know we've got all the results.\n",
    "\n",
    "We're going to use these results to answer our question from the introduction, so we'll also ask the API to include the subjects which are associated with each work, and collect them too."
   ]
  },
  {
   "cell_type": "code",
   "execution_count": null,
   "metadata": {},
   "outputs": [],
   "source": [
    "from tqdm.auto import tqdm\n"
   ]
  },
  {
   "cell_type": "code",
   "execution_count": null,
   "metadata": {},
   "outputs": [],
   "source": [
    "results = []\n",
    "\n",
    "# fetch the first page of results\n",
    "response = requests.get(\n",
    "    base_url + \"works\",\n",
    "    params={\n",
    "        \"subjects.label\": \"England\",\n",
    "        \"include\": \"subjects\",\n",
    "        \"pageSize\": \"100\",\n",
    "    },\n",
    ").json()\n",
    "\n",
    "# start a progress bar to keep track of how many results we've fetched\n",
    "progress_bar = tqdm(total=response[\"totalResults\"])\n",
    "\n",
    "# add our results to the list and update our progress bar\n",
    "results.extend(response[\"results\"])\n",
    "progress_bar.update(len(response[\"results\"]))\n",
    "\n",
    "# as long as there's a \"nextPage\" key in the response, keep fetching results\n",
    "# adding them to the list, and updating the progress bar\n",
    "while \"nextPage\" in response:\n",
    "    response = requests.get(response[\"nextPage\"]).json()\n",
    "    results.extend(response[\"results\"])\n",
    "    progress_bar.update(len(response[\"results\"]))\n",
    "\n",
    "progress_bar.close()\n",
    "\n",
    "works_about_england = results"
   ]
  },
  {
   "attachments": {},
   "cell_type": "markdown",
   "metadata": {},
   "source": [
    "let's check that we've got the correct number of results:"
   ]
  },
  {
   "cell_type": "code",
   "execution_count": null,
   "metadata": {},
   "outputs": [],
   "source": [
    "len(works_about_england) == response[\"totalResults\"]"
   ]
  },
  {
   "attachments": {},
   "cell_type": "markdown",
   "metadata": {},
   "source": [
    "Great! Now let's try collecting works for a second subject:"
   ]
  },
  {
   "cell_type": "code",
   "execution_count": null,
   "metadata": {},
   "outputs": [],
   "source": [
    "results = []\n",
    "\n",
    "response = requests.get(\n",
    "    base_url + \"works\",\n",
    "    params={\n",
    "        \"subjects.label\": \"Germany\",\n",
    "        \"include\": \"subjects\",\n",
    "        \"pageSize\": \"100\",\n",
    "    },\n",
    ").json()\n",
    "\n",
    "progress_bar = tqdm(total=response[\"totalResults\"])\n",
    "\n",
    "results.extend(response[\"results\"])\n",
    "progress_bar.update(len(response[\"results\"]))\n",
    "\n",
    "while \"nextPage\" in response:\n",
    "    response = requests.get(response[\"nextPage\"]).json()\n",
    "    results.extend(response[\"results\"])\n",
    "    progress_bar.update(len(response[\"results\"]))\n",
    "\n",
    "progress_bar.close()\n",
    "\n",
    "works_about_germany = results"
   ]
  },
  {
   "attachments": {},
   "cell_type": "markdown",
   "metadata": {},
   "source": [
    "## 2.3 Analyzing our two sets of results \n",
    "\n",
    "Let's find the works which are tagged with both subjects by filtering the results of the first list by IDs from the second list."
   ]
  },
  {
   "cell_type": "code",
   "execution_count": null,
   "metadata": {},
   "outputs": [],
   "source": [
    "ids_from_works_about_england = set([work[\"id\"] for work in works_about_england])"
   ]
  },
  {
   "cell_type": "code",
   "execution_count": null,
   "metadata": {},
   "outputs": [],
   "source": [
    "works_about_england_and_germany = [\n",
    "    work\n",
    "    for work in works_about_germany\n",
    "    if work[\"id\"] in ids_from_works_about_england\n",
    "]"
   ]
  },
  {
   "cell_type": "code",
   "execution_count": null,
   "metadata": {},
   "outputs": [],
   "source": [
    "len(works_about_england_and_germany)"
   ]
  },
  {
   "cell_type": "code",
   "execution_count": null,
   "metadata": {},
   "outputs": [],
   "source": [
    "works_about_england_and_germany"
   ]
  },
  {
   "attachments": {},
   "cell_type": "markdown",
   "metadata": {},
   "source": [
    "That's 32 works which are tagged with both `England` and `Germany`. Let's see if we can find the other subjects which are most commonly found on these works. \n",
    "\n",
    "Let's use a `Counter` to figure that out:\n",
    "\n",
    "N.B. We're collecting the _concepts_ on each work because they are the atomic constituent parts of subjects. Our catalogue includes subjects like \"Surgery - 18th Century\" which are made up of the concepts \"Surgery\" and \"18th Century\". It's more desirable to compare the concepts, because the subjects can be so specific and are less likely to overlap."
   ]
  },
  {
   "cell_type": "code",
   "execution_count": null,
   "metadata": {},
   "outputs": [],
   "source": [
    "from collections import Counter\n",
    "\n",
    "concepts = Counter()\n",
    "\n",
    "for record in works_about_england_and_germany:\n",
    "    # we need to navigate the nested structure of the subject and its concepts to\n",
    "    # get the complete list of _concepts_ on each work\n",
    "    for subject in record[\"subjects\"]:\n",
    "        for concept in subject[\"concepts\"]:\n",
    "            concepts.update([concept[\"label\"]])"
   ]
  },
  {
   "attachments": {},
   "cell_type": "markdown",
   "metadata": {},
   "source": [
    "\n",
    "\n",
    "The `Counter` object keeps track of the counts of each unique item we pass to it. Now that we've added the complete list, we can ask it for the most common items:"
   ]
  },
  {
   "cell_type": "code",
   "execution_count": null,
   "metadata": {},
   "outputs": [],
   "source": [
    "concepts.most_common(20)"
   ]
  },
  {
   "attachments": {},
   "cell_type": "markdown",
   "metadata": {},
   "source": [
    "Great! We've solved our original problem:\n",
    "\n",
    "> If we filter the works API for a set of subjects, can we find the other concepts that most commonly co-occur with them?\n",
    "\n",
    "## 2.4 Creating a generic function for finding subject intersections\n",
    "\n",
    "Now that we've solved this problem, let's try to make it more generic so that we can use it for other pairs of subjects.\n",
    "\n",
    "We can re-use a lot of the code we've already written, and wrap it in a couple of reusable function definitions."
   ]
  },
  {
   "cell_type": "code",
   "execution_count": null,
   "metadata": {},
   "outputs": [],
   "source": [
    "def get_subject_results(subject):\n",
    "    response = requests.get(\n",
    "        base_url + \"works\",\n",
    "        params={\n",
    "            \"subjects.label\": subject,\n",
    "            \"include\": \"subjects\",\n",
    "            \"pageSize\": \"100\",\n",
    "        },\n",
    "    ).json()\n",
    "\n",
    "    progress_bar = tqdm(total=response[\"totalResults\"])\n",
    "    results = response[\"results\"]\n",
    "    progress_bar.update(len(response[\"results\"]))\n",
    "\n",
    "    while \"nextPage\" in response:\n",
    "        response = requests.get(response[\"nextPage\"]).json()\n",
    "        results.extend(response[\"results\"])\n",
    "        progress_bar.update(len(response[\"results\"]))\n",
    "\n",
    "    progress_bar.close()\n",
    "    \n",
    "    return results\n",
    "\n",
    "\n",
    "def find_intersecting_subject_concepts(subject_1, subject_2, n=20):\n",
    "    subject_1_results = get_subject_results(subject_1)\n",
    "    subject_2_results = get_subject_results(subject_2)\n",
    "    subject_2_ids = set(result[\"id\"] for result in subject_2_results)\n",
    "\n",
    "    intersecting_results = [\n",
    "        result for result in subject_1_results if result[\"id\"] in subject_2_ids\n",
    "    ]\n",
    "\n",
    "    concepts = Counter()\n",
    "    for record in intersecting_results:\n",
    "        for subject in record[\"subjects\"]:\n",
    "            for concept in subject[\"concepts\"]:\n",
    "                concepts.update([concept[\"label\"]])\n",
    "\n",
    "    return concepts.most_common(n)"
   ]
  },
  {
   "attachments": {},
   "cell_type": "markdown",
   "metadata": {},
   "source": [
    "Calling the `find_intersecting_subject_concepts()` function with any two subjects will return a counter of the most common concepts found on the works which are tagged with both subjects."
   ]
  },
  {
   "cell_type": "code",
   "execution_count": null,
   "metadata": {},
   "outputs": [],
   "source": [
    "find_intersecting_subject_concepts(\"Europe\", \"United States\")"
   ]
  },
  {
   "cell_type": "code",
   "execution_count": null,
   "metadata": {},
   "outputs": [],
   "source": [
    "find_intersecting_subject_concepts(\"Vomiting\", \"Witchcraft\")"
   ]
  },
  {
   "attachments": {},
   "cell_type": "markdown",
   "metadata": {},
   "source": [
    "## Exercises\n",
    "\n",
    "1. Try running the function with different subjects. Use the API to find two subjects which appear on a few hundred or a few thousand works, and see if you can find the most common concepts which appear on both of them.\n",
    "2. Adapt the code to compare an arbitrary number of subjects, rather than just two.\n"
   ]
  }
 ],
 "metadata": {
  "kernelspec": {
   "display_name": "Python 3",
   "language": "python",
   "name": "python3"
  },
  "language_info": {
   "codemirror_mode": {
    "name": "ipython",
    "version": 3
   },
   "file_extension": ".py",
   "mimetype": "text/x-python",
   "name": "python",
   "nbconvert_exporter": "python",
   "pygments_lexer": "ipython3",
   "version": "3.10.11"
  }
 },
 "nbformat": 4,
 "nbformat_minor": 2
}
