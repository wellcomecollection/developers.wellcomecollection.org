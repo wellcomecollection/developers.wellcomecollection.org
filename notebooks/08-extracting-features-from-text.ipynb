{
 "cells": [
  {
   "attachments": {},
   "cell_type": "markdown",
   "metadata": {},
   "source": [
    "# Extracting features from text\n",
    "\n",
    "In the last notebook, we saw that using a pre-trained network allowed us to extract features from images, and train a classifier for new categories on top of those features. We can do the same thing with text, using a pre-trained network to extract features from text. In this notebook, we'll use those features the visualise the similarities and differences between works in the collection, and try to find clusters of related material.\n",
    "\n",
    "First, we need to install a few packages. We'll use `sentence-transformers` to manage our pre-trained language models, and `umap-learn` to compress our high-dimensional features, and `plotly` to visualise the results."
   ]
  },
  {
   "cell_type": "code",
   "execution_count": null,
   "metadata": {},
   "outputs": [],
   "source": [
    "! pip install -U --quiet sentence-transformers umap-learn plotly"
   ]
  },
  {
   "cell_type": "code",
   "execution_count": null,
   "metadata": {},
   "outputs": [],
   "source": [
    "from pathlib import Path\n",
    "from sentence_transformers import SentenceTransformer\n",
    "from tqdm.auto import tqdm\n",
    "from umap import UMAP\n",
    "import gzip\n",
    "import io\n",
    "import json\n",
    "import matplotlib.pyplot as plt\n",
    "import numpy as np\n",
    "import pandas as pd\n",
    "import plotly.express as px\n",
    "import requests"
   ]
  },
  {
   "cell_type": "markdown",
   "metadata": {},
   "source": [
    "## 8.1 Building a dataset \n",
    "\n",
    "We'll use the works snapshot in this exercise (as explained in notebook 4), but this data could just as easily be fetched from the API. The following code is the same as in notebook 4."
   ]
  },
  {
   "cell_type": "code",
   "execution_count": null,
   "metadata": {},
   "outputs": [],
   "source": [
    "snapshot_url = \"https://data.wellcomecollection.org/catalogue/v2/works.json.gz\"\n",
    "\n",
    "data_dir = Path(\"./data\").resolve()\n",
    "data_dir.mkdir(exist_ok=True)\n",
    "\n",
    "file_name = Path(snapshot_url).parts[-1]\n",
    "zipped_path = data_dir / file_name\n",
    "unzipped_path = zipped_path.with_suffix(\"\")\n",
    "\n",
    "\n",
    "if not unzipped_path.exists():\n",
    "    if not zipped_path.exists():\n",
    "        r = requests.get(snapshot_url, stream=True)\n",
    "        download_progress_bar = tqdm(\n",
    "            unit=\"B\",\n",
    "            total=int(r.headers[\"Content-Length\"]),\n",
    "            desc=f\"downloading {file_name}\",\n",
    "        )\n",
    "        with open(zipped_path, \"wb\") as f:\n",
    "            for chunk in r.iter_content(chunk_size=1024):\n",
    "                if chunk:\n",
    "                    f.write(chunk)\n",
    "                    download_progress_bar.update(len(chunk))\n",
    "\n",
    "    with gzip.open(zipped_path, \"rb\") as f_in:\n",
    "        unzip_progress_bar = tqdm(\n",
    "            unit=\"B\",\n",
    "            total=f_in.seek(0, io.SEEK_END),\n",
    "            desc=f\"unzipping {file_name}\",\n",
    "        )\n",
    "        with open(unzipped_path, \"wb\") as f_out:\n",
    "            for line in f_in:\n",
    "                f_out.write(line)\n",
    "                unzip_progress_bar.update(len(line))\n",
    "\n",
    "if zipped_path.exists():\n",
    "    zipped_path.unlink()"
   ]
  },
  {
   "cell_type": "markdown",
   "metadata": {},
   "source": [
    "Now we can start building a dataset of work titles. Let's select 50,000 random works from the collection, and then extract their title text into a list of strings."
   ]
  },
  {
   "cell_type": "code",
   "execution_count": null,
   "metadata": {},
   "outputs": [],
   "source": [
    "n_works = sum(1 for line in unzipped_path.open())"
   ]
  },
  {
   "cell_type": "code",
   "execution_count": null,
   "metadata": {},
   "outputs": [],
   "source": [
    "random_indexes = np.random.choice(n_works, 50_000, replace=False)\n",
    "with open(unzipped_path, \"r\") as f:\n",
    "    works = []\n",
    "    for i, line in enumerate(f):\n",
    "        if i in random_indexes:\n",
    "            works.append(json.loads(line))"
   ]
  },
  {
   "cell_type": "code",
   "execution_count": null,
   "metadata": {},
   "outputs": [],
   "source": [
    "titles = [work[\"title\"] for work in works]"
   ]
  },
  {
   "cell_type": "code",
   "execution_count": null,
   "metadata": {},
   "outputs": [],
   "source": [
    "titles[:5]"
   ]
  },
  {
   "attachments": {},
   "cell_type": "markdown",
   "metadata": {},
   "source": [
    "## 8.2 Text embedding models\n",
    "\n",
    "Now that we have a dataset to work with, we can download the weights for a pretrained feature-extraction model. We're going to use the small but powerful `all-MiniLM-L6-v2` model (see the [docs on huggingface](https://huggingface.co/sentence-transformers/all-MiniLM-L6-v2), or a [table comparing its performance to other models in the sentence transformers docs](https://www.sbert.net/docs/pretrained_models.html#model-overview)).\n",
    "\n",
    "We'll save the weights locally to `./data/models`."
   ]
  },
  {
   "cell_type": "code",
   "execution_count": null,
   "metadata": {},
   "outputs": [],
   "source": [
    "model_name = \"all-MiniLM-L6-v2\"\n",
    "model = SentenceTransformer(model_name, cache_folder=\"./data/models\")"
   ]
  },
  {
   "cell_type": "markdown",
   "metadata": {},
   "source": [
    "We can use our model to extract features from our text. The `model.encode()` method takes a list of strings, and returns a list of 384-dimensional vectors. These features behave similarly to the image features we extracted in the last notebook. \n",
    "\n",
    "For example, the sentence\n",
    "\n",
    "```the cat sat on the mat```\n",
    "\n",
    "should be very similar (ie have a small distance from) the sentence\n",
    "\n",
    "```a feline sits above the rug```\n",
    "\n",
    "despite having few words in common.\n",
    "\n",
    "Both should have a much larger distance from the sentence\n",
    "\n",
    "```i hate this film```"
   ]
  },
  {
   "cell_type": "code",
   "execution_count": null,
   "metadata": {},
   "outputs": [],
   "source": [
    "texts = [\n",
    "    \"the cat sat on the mat\",\n",
    "    \"a feline sits above the rug\",\n",
    "    \"i hate this film\",\n",
    "]\n",
    "\n",
    "embeddings = model.encode(texts)"
   ]
  },
  {
   "cell_type": "code",
   "execution_count": null,
   "metadata": {},
   "outputs": [],
   "source": [
    "embeddings.shape"
   ]
  },
  {
   "cell_type": "markdown",
   "metadata": {},
   "source": [
    "We can calculate the similarity of embeddings using the cosine distances between them."
   ]
  },
  {
   "cell_type": "code",
   "execution_count": null,
   "metadata": {},
   "outputs": [],
   "source": [
    "from scipy.spatial.distance import cdist"
   ]
  },
  {
   "cell_type": "code",
   "execution_count": null,
   "metadata": {},
   "outputs": [],
   "source": [
    "cdist(embeddings, embeddings, metric=\"cosine\")"
   ]
  },
  {
   "cell_type": "markdown",
   "metadata": {},
   "source": [
    "The diagonal here represents the distance from each sentence to itself, while the off-diagonal values represent the distance between each pair of sentences. We can see that the first two sentences are very similar (distance ~= 0.4), while the third is very different (distance ~= 1).\n",
    "\n",
    "We can run the same encoding process for every title in our dataset:"
   ]
  },
  {
   "cell_type": "code",
   "execution_count": null,
   "metadata": {},
   "outputs": [],
   "source": [
    "title_vectors = np.array([model.encode(title) for title in tqdm(titles)])"
   ]
  },
  {
   "cell_type": "markdown",
   "metadata": {},
   "source": [
    "Again, we should expect that very similar titles will produce similar embeddings, while very different titles will produce very different embeddings.\n",
    "\n",
    "## 8.3 Visualising the embeddings\n",
    "\n",
    "The embeddings we've produced are 384-dimensional - too many to visualise directly. While the 384 dimensions give the model lots of room to express the differences between sentences, it's very hard to visualise more than 3 dimensions at a time. To get around this, we can use a [dimensionality reduction](https://en.wikipedia.org/wiki/Dimensionality_reduction) technique to compress our 384-dimensional vectors into 3 dimensions. We'll use the [UMAP](https://umap-learn.readthedocs.io/en/latest/) algorithm to compress our initial vectors down to 2 dimensions so that they can be scattered on a 2D plot."
   ]
  },
  {
   "cell_type": "code",
   "execution_count": null,
   "metadata": {},
   "outputs": [],
   "source": [
    "dimension_reducer = UMAP(n_components=2, random_state=42)\n",
    "title_embeddings_2d = dimension_reducer.fit_transform(title_vectors)"
   ]
  },
  {
   "cell_type": "code",
   "execution_count": null,
   "metadata": {},
   "outputs": [],
   "source": [
    "plt.figure(figsize=(20, 20))\n",
    "plt.scatter(\n",
    "    title_embeddings_2d[:, 0], title_embeddings_2d[:, 1], alpha=0.2, c=\"k\", s=5\n",
    ")\n",
    "plt.show()"
   ]
  },
  {
   "attachments": {},
   "cell_type": "markdown",
   "metadata": {},
   "source": [
    "By trying to preserve the distances between points, UMAP can give us a good idea of the relationships between our titles. We can see clusters of points across the plot, indicating that there are a few groups of similar titles, distinct from the rest of our dataset\n",
    "\n",
    "## 8.4 Interactive visualisations\n",
    "\n",
    "We can visualise this data in a more interactive way using [plotly](https://plotly.com/python/). Plotly is a powerful plotting library that allows us to create interactive plots that can be embedded in web pages. We can use plotly to create a scatter plot of our data, and then add a hover effect that shows the title of each work when we hover over it.\n",
    "\n",
    "N.B. You won't be able to see this if you're reading the markdown version of this notebook, or viewing it on GitHub. You'll need to run the notebook yourself to see the interactive plot.\n",
    "\n",
    "We'll start by loading our 2d embeddings into a dataframe, along with the original titles."
   ]
  },
  {
   "cell_type": "code",
   "execution_count": null,
   "metadata": {},
   "outputs": [],
   "source": [
    "df = pd.DataFrame(title_embeddings_2d, columns=[\"x\", \"y\"])\n",
    "df[\"title\"] = titles"
   ]
  },
  {
   "cell_type": "markdown",
   "metadata": {},
   "source": [
    "We'll then use plotly to create a scatter plot of our data, with the the `hover_data` parameter set to add the title of each work when the user hovers over it."
   ]
  },
  {
   "cell_type": "code",
   "execution_count": null,
   "metadata": {},
   "outputs": [],
   "source": [
    "fig = px.scatter(\n",
    "    df, x=\"x\", y=\"y\", hover_data=[\"title\"], width=1000, height=1000\n",
    ")\n",
    "fig.update_traces(marker=dict(size=5, opacity=0.2, color=\"grey\"))\n",
    "fig.update_layout(\n",
    "    paper_bgcolor=\"white\",\n",
    "    plot_bgcolor=\"white\",\n",
    "    xaxis=dict(gridcolor=\"rgb(220, 220, 220)\", showgrid=True),\n",
    "    yaxis=dict(gridcolor=\"rgb(220, 220, 220)\", showgrid=True),\n",
    ")"
   ]
  },
  {
   "attachments": {},
   "cell_type": "markdown",
   "metadata": {},
   "source": [
    "As expected, similar titles have been placed in similar regions of the space! We can see that the model has learned to distinguish between titles that are similar in meaning, but different in wording, and titles that are completely different.\n",
    "\n",
    "## 8.5 Clustering\n",
    "\n",
    "We can use the features we've extracted to cluster our works into groups of similar titles. We'll use the k-means algorithm to cluster our works into 50 groups. We'll then add the cluster labels to our dataframe, and use plotly to colour the points in our plot by cluster.\n",
    "\n",
    "N.B. Many other clustering algorithms are available, and might yield better results! If you're running this notebook yourself, try switching the clusterer to use the `OPTICS` algorithm instead, taking advantage of the fact that it doesn't require us to specify the number of clusters in advance."
   ]
  },
  {
   "cell_type": "code",
   "execution_count": null,
   "metadata": {},
   "outputs": [],
   "source": [
    "from sklearn.cluster import OPTICS, KMeans"
   ]
  },
  {
   "cell_type": "code",
   "execution_count": null,
   "metadata": {},
   "outputs": [],
   "source": [
    "clusterer = KMeans(n_clusters=50)\n",
    "\n",
    "# clusterer = OPTICS(min_samples=10, xi=0.01, min_cluster_size=0.001)"
   ]
  },
  {
   "cell_type": "markdown",
   "metadata": {},
   "source": [
    "Note here that we're finding our clusters in our original, 384-dimensional space, instead of our reduced 2d space. This allows us to retain all of the complexity of our original embeddings, and find clusters that are more meaningful than those we'd find in our reduced space."
   ]
  },
  {
   "cell_type": "code",
   "execution_count": null,
   "metadata": {},
   "outputs": [],
   "source": [
    "clusters = clusterer.fit_predict(title_vectors)"
   ]
  },
  {
   "cell_type": "markdown",
   "metadata": {},
   "source": [
    "Let's add those cluster labels to our dataframe."
   ]
  },
  {
   "cell_type": "code",
   "execution_count": null,
   "metadata": {},
   "outputs": [],
   "source": [
    "import pandas as pd\n",
    "\n",
    "df = pd.DataFrame(\n",
    "    {\n",
    "        \"title\": titles,\n",
    "        \"cluster\": clusters,\n",
    "        \"x\": title_embeddings_2d[:, 0],\n",
    "        \"y\": title_embeddings_2d[:, 1],\n",
    "    }\n",
    ")\n",
    "\n",
    "df.head()"
   ]
  },
  {
   "cell_type": "markdown",
   "metadata": {},
   "source": [
    "And look at the number of titles which have been added to each bucket"
   ]
  },
  {
   "cell_type": "code",
   "execution_count": null,
   "metadata": {},
   "outputs": [],
   "source": [
    "df[\"cluster\"].value_counts()"
   ]
  },
  {
   "cell_type": "markdown",
   "metadata": {},
   "source": [
    "## 8.6 Visualising the clusters\n",
    "\n",
    "Remember, we've found our clusters in our original, 384-dimensional space, but we're visualising them in our reduced 2d space. This means that we might not see all of the complexity of our original embeddings in our reduced-space visualisation, so the clusters might look less coherent when we plot them!\n",
    "\n",
    "N.B. You won't be able to see this if you're reading the markdown version of this notebook, or viewing it on GitHub. You'll need to run the notebook yourself to see the interactive plot."
   ]
  },
  {
   "cell_type": "code",
   "execution_count": null,
   "metadata": {},
   "outputs": [],
   "source": [
    "fig = px.scatter(\n",
    "    df,\n",
    "    x=\"x\",\n",
    "    y=\"y\",\n",
    "    color=\"cluster\",\n",
    "    hover_data=[\"title\"],\n",
    "    width=1000,\n",
    "    height=1000,\n",
    ")\n",
    "\n",
    "fig.update_layout(\n",
    "    paper_bgcolor=\"white\",\n",
    "    plot_bgcolor=\"white\",\n",
    "    xaxis=dict(gridcolor=\"rgb(220, 220, 220)\", showgrid=True),\n",
    "    yaxis=dict(gridcolor=\"rgb(220, 220, 220)\", showgrid=True),\n",
    ")"
   ]
  },
  {
   "attachments": {},
   "cell_type": "markdown",
   "metadata": {},
   "source": [
    "## 8.7 3D Visualisation\n",
    "\n",
    "We can also use plotly to build 3D interactive scatter plots, which can be rotated and zoomed to explore the data. We'll use roughly the same code as before, but use a UMAP model with `n_components` set to `3` to reduce our embeddings to 3 dimensions instead of 2. \n",
    "\n"
   ]
  },
  {
   "cell_type": "code",
   "execution_count": null,
   "metadata": {},
   "outputs": [],
   "source": [
    "\n",
    "dimension_reducer = UMAP(n_components=3, random_state=42, n_jobs=-1)\n",
    "title_embeddings_3d = dimension_reducer.fit_transform(title_vectors)"
   ]
  },
  {
   "cell_type": "code",
   "execution_count": null,
   "metadata": {},
   "outputs": [],
   "source": [
    "df = pd.DataFrame(\n",
    "    {\n",
    "        \"title\": titles,\n",
    "        \"cluster\": clusters,\n",
    "        \"x\": title_embeddings_3d[:, 0],\n",
    "        \"y\": title_embeddings_3d[:, 1],\n",
    "        \"z\": title_embeddings_3d[:, 2],\n",
    "    }\n",
    ")"
   ]
  },
  {
   "cell_type": "markdown",
   "metadata": {},
   "source": [
    "N.B. You won't be able to see this if you're reading the markdown version of this notebook, or viewing it on GitHub. You'll need to run the notebook yourself to see the interactive plot."
   ]
  },
  {
   "cell_type": "code",
   "execution_count": null,
   "metadata": {},
   "outputs": [],
   "source": [
    "fig = px.scatter_3d(\n",
    "    df,\n",
    "    x=\"x\",\n",
    "    y=\"y\",\n",
    "    z=\"z\",\n",
    "    color=\"cluster\",\n",
    "    hover_data=[\"title\"],\n",
    "    width=1000,\n",
    "    height=1000,\n",
    "    size_max=5,\n",
    ")"
   ]
  },
  {
   "cell_type": "code",
   "execution_count": null,
   "metadata": {},
   "outputs": [],
   "source": [
    "fig.show()"
   ]
  },
  {
   "cell_type": "markdown",
   "metadata": {},
   "source": [
    "## Exercises\n",
    "\n",
    "1. Adapt the data-fetching code to use the API, instead of the works snapshot.\n",
    "2. Use a different pre-trained model to extract features from the text. How does the visualisation change?\n",
    "3. Try using a different clustering algorithm to cluster the works. How do the meanings/boundaries of the clusters change?\n",
    "4. Try to build a simple semantic search function, by allowing the user to enter a search term, embedding their search term using the feature-extracting model, and returning the titles that are closest to that term. How well does it work? How could you improve it?"
   ]
  },
  {
   "cell_type": "code",
   "execution_count": null,
   "metadata": {},
   "outputs": [],
   "source": []
  }
 ],
 "metadata": {
  "kernelspec": {
   "display_name": "Python 3",
   "language": "python",
   "name": "python3"
  },
  "language_info": {
   "codemirror_mode": {
    "name": "ipython",
    "version": 3
   },
   "file_extension": ".py",
   "mimetype": "text/x-python",
   "name": "python",
   "nbconvert_exporter": "python",
   "pygments_lexer": "ipython3",
   "version": "3.10.11"
  },
  "orig_nbformat": 4
 },
 "nbformat": 4,
 "nbformat_minor": 2
}
