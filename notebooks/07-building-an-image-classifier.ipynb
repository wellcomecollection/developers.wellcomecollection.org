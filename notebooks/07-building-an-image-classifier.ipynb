{
 "cells": [
  {
   "attachments": {},
   "cell_type": "markdown",
   "metadata": {},
   "source": [
    "# 7. Building an image classifier\n",
    "\n",
    "This notebook is going to race through some high-level concepts in machine learning (specifically, fine-tuning a convolutional neural network). However, our focus will remain on demonstrating the practical uses of the Wellcome Collection API. As such, some important ML topics will be covered in less detail than they deserve, and some will be skipped entirely.\n",
    "If you're not already familiar with the basics of ML but want to learn more, I'd recommend exploring [Practical Deep Learning for Coders](https://course.fast.ai/) by fast.ai. It describes itself as:\n",
    "\n",
    "> A free course designed for people with some coding experience, who want to learn how to apply deep learning and machine learning to practical problems.\n",
    "\n",
    "and will equip you with everything you need to understand and extend the code in this notebook.\n",
    "\n",
    "## 7.1 Introduction\n",
    "\n",
    "Image classification is a classic task in machine learning. By gathering thousands of examples of labelled images from a small number of classes, we can train a model to predict the class for new, unlabelled images.\n",
    "\n",
    "In this notebook, we'll build a model that can classify images based on categories in the collection. We're going to use a pre-trained model, which has already been exposed to on a large collection of labelled images. We'll then re-train it on our own images, taking advantage of the low-level knowledge it gained from its previous task. This is a common technique in machine learning known as fine tuning, or transfer learning.\n",
    "\n",
    "The model we'll fine-tune is called [ResNet-50](https://arxiv.org/abs/1512.03385), which has been pre-trained on the [ImageNet dataset](https://www.image-net.org/). We'll use the `transformers` library to download the pre-trained model, which uses `pytorch` under the hood."
   ]
  },
  {
   "cell_type": "code",
   "execution_count": null,
   "metadata": {},
   "outputs": [],
   "source": [
    "!pip install -U --quiet transformers"
   ]
  },
  {
   "attachments": {},
   "cell_type": "markdown",
   "metadata": {},
   "source": [
    "## 7.2 Gather an image dataset for fine-tuning\n",
    "\n",
    "To fine-tune a model, we need a dataset of images that are labelled with the classes we want to predict. We'll use the Wellcome Collection API to gather a dataset of images from the collection, filtered by a set of subjects."
   ]
  },
  {
   "cell_type": "code",
   "execution_count": null,
   "metadata": {},
   "outputs": [],
   "source": [
    "import requests\n",
    "from tqdm.auto import tqdm\n",
    "from pathlib import Path\n",
    "\n",
    "from PIL import Image\n",
    "from io import BytesIO"
   ]
  },
  {
   "attachments": {},
   "cell_type": "markdown",
   "metadata": {},
   "source": [
    "The categories we'll use are `portrait` and `landscape`. We want our model to learn the features of the images which contribute to their classification as portraits or landscapes. For example, portraits tend to contain features like hair, eyes, mouths, clothing, and their visual focus is usually concentrated on a single region of the image. Landscapes, however, contain features like trees, buildings, water, and their visual focus is usually spread across the image. Of course, the usual feature that distinguishes a portrait or landscape image is its aspect ratio, but our model won't have access to this information, either during training or when making predictions. We'll use square versions of the images throughout, so that the model has to make its decision based on the content of the image alone.\n",
    "\n",
    "Let's start by defining a function which will download all of the images with a specified genre label."
   ]
  },
  {
   "cell_type": "code",
   "execution_count": null,
   "metadata": {},
   "outputs": [],
   "source": [
    "base_url = \"https://api.wellcomecollection.org/catalogue/v2/\"\n",
    "\n",
    "\n",
    "def get_genre_image_urls(genre):\n",
    "    results = {}\n",
    "    response = requests.get(\n",
    "        base_url + \"images\",\n",
    "        params={\n",
    "            \"source.genres.label\": genre,\n",
    "            \"pageSize\": \"100\",\n",
    "        },\n",
    "    ).json()\n",
    "\n",
    "    progress_bar = tqdm(total=response[\"totalResults\"])\n",
    "    results.update(\n",
    "        {\n",
    "            result[\"id\"]: result[\"thumbnail\"][\"url\"].replace(\n",
    "                \"info.json\", \"full/!400,400/0/default.jpg\"\n",
    "            )\n",
    "            for result in response[\"results\"]\n",
    "        }\n",
    "    )\n",
    "    progress_bar.update(len(response[\"results\"]))\n",
    "\n",
    "    while \"nextPage\" in response:\n",
    "        response = requests.get(response[\"nextPage\"]).json()\n",
    "        results.update(\n",
    "            {\n",
    "                result[\"id\"]: result[\"thumbnail\"][\"url\"].replace(\n",
    "                    \"info.json\", \"full/!400,400/0/default.jpg\"\n",
    "                )\n",
    "                for result in response[\"results\"]\n",
    "            }\n",
    "        )\n",
    "        progress_bar.update(len(response[\"results\"]))\n",
    "\n",
    "    progress_bar.close()\n",
    "    return results"
   ]
  },
  {
   "attachments": {},
   "cell_type": "markdown",
   "metadata": {},
   "source": [
    "here are all of the image thumbnail urls which have the genre label 'portrait'"
   ]
  },
  {
   "cell_type": "code",
   "execution_count": null,
   "metadata": {},
   "outputs": [],
   "source": [
    "portrait_urls = get_genre_image_urls(\"Portrait prints\")"
   ]
  },
  {
   "attachments": {},
   "cell_type": "markdown",
   "metadata": {},
   "source": [
    "and here are the landscapes."
   ]
  },
  {
   "cell_type": "code",
   "execution_count": null,
   "metadata": {},
   "outputs": [],
   "source": [
    "landscape_urls = get_genre_image_urls(\"Landscape prints\")"
   ]
  },
  {
   "cell_type": "code",
   "execution_count": null,
   "metadata": {},
   "outputs": [],
   "source": [
    "len(portrait_urls), len(landscape_urls)"
   ]
  },
  {
   "attachments": {},
   "cell_type": "markdown",
   "metadata": {},
   "source": [
    "Let's save a local copy of the images to the `data/images` directory. We'll do some processing of the raw images later on, so we'll save the raw versions to the `data/images/raw` directory, with a subdirectory for each genre."
   ]
  },
  {
   "cell_type": "code",
   "execution_count": null,
   "metadata": {},
   "outputs": [],
   "source": [
    "images_dir = Path(\"./data/images\")\n",
    "images_dir.mkdir(exist_ok=True, parents=True)"
   ]
  },
  {
   "cell_type": "code",
   "execution_count": null,
   "metadata": {},
   "outputs": [],
   "source": [
    "raw_portraits_dir = images_dir / \"raw\" / \"portraits\"\n",
    "raw_portraits_dir.mkdir(exist_ok=True, parents=True)\n",
    "\n",
    "if len(list(raw_portraits_dir.glob(\"*.jpg\"))) == 0:\n",
    "    for id, url in tqdm(portrait_urls.items()):\n",
    "        response = requests.get(url)\n",
    "        image = Image.open(BytesIO(response.content))\n",
    "        image.save(raw_portraits_dir / f\"{id}.jpg\")"
   ]
  },
  {
   "cell_type": "code",
   "execution_count": null,
   "metadata": {},
   "outputs": [],
   "source": [
    "raw_landscapes_dir = images_dir / \"raw\" / \"landscapes\"\n",
    "raw_landscapes_dir.mkdir(exist_ok=True, parents=True)\n",
    "\n",
    "if len(list(raw_landscapes_dir.glob(\"*.jpg\"))) == 0:\n",
    "    for id, url in tqdm(landscape_urls.items()):\n",
    "        response = requests.get(url)\n",
    "        image = Image.open(BytesIO(response.content))\n",
    "        image.save(raw_landscapes_dir / f\"{id}.jpg\")"
   ]
  },
  {
   "attachments": {},
   "cell_type": "markdown",
   "metadata": {},
   "source": [
    "## 7.3 Splitting the data into train, test, and validation sets\n",
    "\n",
    "It's important that our model's accuracy is tested on images it hasn't seen before. To do this, we'll split our dataset into three sets:\n",
    "\n",
    "- **Training set**: used to train the model.\n",
    "- **Validation set**: used to test the model's accuracy during training.\n",
    "- **Test set**: used to test the model's accuracy after training.\n",
    "\n",
    "We'll use the `train_test_split` function from `sklearn` to split our dataset into a training set and a leftover set. We'll then split that leftover set into a training and a validation set.\n",
    "\n",
    "First, let's set up some directories for our split datasets."
   ]
  },
  {
   "cell_type": "code",
   "execution_count": null,
   "metadata": {},
   "outputs": [],
   "source": [
    "processed_images_dir = images_dir / \"processed\"\n",
    "\n",
    "train_dir = processed_images_dir / \"train\"\n",
    "(train_dir / \"portraits\").mkdir(exist_ok=True, parents=True)\n",
    "(train_dir / \"landscapes\").mkdir(exist_ok=True, parents=True)\n",
    "\n",
    "test_dir = processed_images_dir / \"test\"\n",
    "(test_dir / \"portraits\").mkdir(exist_ok=True, parents=True)\n",
    "(test_dir / \"landscapes\").mkdir(exist_ok=True, parents=True)\n",
    "\n",
    "val_dir = processed_images_dir / \"val\"\n",
    "(val_dir / \"portraits\").mkdir(exist_ok=True, parents=True)\n",
    "(val_dir / \"landscapes\").mkdir(exist_ok=True, parents=True)"
   ]
  },
  {
   "cell_type": "code",
   "execution_count": null,
   "metadata": {},
   "outputs": [],
   "source": [
    "from sklearn.model_selection import train_test_split\n",
    "\n",
    "train_size = 0.7\n",
    "val_size = 0.05\n",
    "test_size = 0.25\n",
    "\n",
    "portraits_paths = list(raw_portraits_dir.glob(\"*.jpg\"))\n",
    "\n",
    "train_portraits_paths, leftover_portraits_paths = train_test_split(\n",
    "    portraits_paths, train_size=train_size, random_state=42\n",
    ")\n",
    "\n",
    "val_portraits_paths, test_portraits_paths = train_test_split(\n",
    "    leftover_portraits_paths,\n",
    "    test_size=test_size / (test_size + val_size),\n",
    "    random_state=42,\n",
    ")\n",
    "\n",
    "\n",
    "landscapes_paths = list(raw_landscapes_dir.glob(\"*.jpg\"))\n",
    "train_landscapes_paths, leftover_landscapes_paths = train_test_split(\n",
    "    landscapes_paths, train_size=train_size, random_state=42\n",
    ")\n",
    "\n",
    "val_landscapes_paths, test_landscapes_paths = train_test_split(\n",
    "    leftover_landscapes_paths,\n",
    "    test_size=test_size / (test_size + val_size),\n",
    "    random_state=42,\n",
    ")"
   ]
  },
  {
   "cell_type": "markdown",
   "metadata": {},
   "source": [
    "Now that we've set up our directories and split the paths into three sets, we can copy the images into the appropriate directories."
   ]
  },
  {
   "cell_type": "code",
   "execution_count": null,
   "metadata": {},
   "outputs": [],
   "source": [
    "import shutil\n",
    "\n",
    "for path in train_portraits_paths:\n",
    "    shutil.copy(path, train_dir / \"portraits\")\n",
    "\n",
    "for path in val_portraits_paths:\n",
    "    shutil.copy(path, test_dir / \"portraits\")\n",
    "\n",
    "for path in test_portraits_paths:\n",
    "    shutil.copy(path, val_dir / \"portraits\")"
   ]
  },
  {
   "cell_type": "markdown",
   "metadata": {},
   "source": [
    "## 7.4 Transforming images for training\n",
    "\n",
    "We've created two image classes with visually distinct features (portraits and landscapes) which we should be able to use for training a model. However, our classes are very imbalanced!"
   ]
  },
  {
   "cell_type": "code",
   "execution_count": null,
   "metadata": {},
   "outputs": [],
   "source": [
    "# count the images in /data/images/raw/portraits\n",
    "! ls -1 data/images/raw/portraits | wc -l "
   ]
  },
  {
   "cell_type": "code",
   "execution_count": null,
   "metadata": {},
   "outputs": [],
   "source": [
    "# count the images in /data/images/raw/portraits\n",
    "! ls -1 data/images/raw/landscapes | wc -l "
   ]
  },
  {
   "cell_type": "markdown",
   "metadata": {},
   "source": [
    "We have more than 9000 portrait images, and only ~350 landscape images! This is a problem, because our model will learn much more from the portrait images than the landscapes. To limit this effect, we'll use a technique called data augmentation. This involves applying random transformations to the images in our training set, so that the model is exposed to a wider variety of images. We'll use `torchvision`'s `transforms` module to apply the following transformations:\n",
    "\n",
    "- **Random rotation**: rotates the image by a random angle between -10 and 10 degrees.\n",
    "- **Random resize and crop**: takes a random crop of the image between 50% and 100% of the original size, and resizing it to 400x400 pixels.\n",
    "- **Random horizontal flip**: flips the image horizontally with a 50% probability.\n",
    "- **Color jitter**: randomly changes the brightness, contrast, saturation, and hue of the image by 20%.\n",
    "\n",
    "We'll apply these transformations to the images in our landscapes training set 10 times, and then save the transformed images alongside the originals."
   ]
  },
  {
   "cell_type": "code",
   "execution_count": null,
   "metadata": {},
   "outputs": [],
   "source": [
    "from torchvision import transforms\n",
    "\n",
    "transform = transforms.Compose(\n",
    "    [\n",
    "        transforms.RandomRotation(10),\n",
    "        transforms.RandomResizedCrop(400, scale=(0.5, 1.0)),\n",
    "        transforms.RandomHorizontalFlip(),\n",
    "        transforms.ColorJitter(\n",
    "            brightness=0.2, contrast=0.2, saturation=0.2, hue=0.2\n",
    "        ),\n",
    "    ]\n",
    ")\n",
    "\n",
    "for file in tqdm(train_landscapes_paths):\n",
    "    image = Image.open(file)\n",
    "    for i in range(10):\n",
    "        transformed_image = transform(image)\n",
    "        transformed_image.save(\n",
    "            train_dir / \"landscapes\" / f\"{file.stem}-{i}.jpg\"\n",
    "        )\n",
    "\n",
    "for file in val_landscapes_paths:\n",
    "    image = Image.open(file)\n",
    "    for i in range(10):\n",
    "        transformed_image = transform(image)\n",
    "        transformed_image.save(val_dir / \"landscapes\" / f\"{file.stem}-{i}.jpg\")\n",
    "\n",
    "for file in test_landscapes_paths:\n",
    "    image = Image.open(file)\n",
    "    for i in range(10):\n",
    "        transformed_image = transform(image)\n",
    "        transformed_image.save(test_dir / \"landscapes\" / f\"{file.stem}-{i}.jpg\")"
   ]
  },
  {
   "attachments": {},
   "cell_type": "markdown",
   "metadata": {},
   "source": [
    "## 7.5 Building a `Dataset` using the processed images\n",
    "\n",
    "Pytorch uses the `Dataset` and `Dataloader` objects to load images into a model for training. When the model asks for a batch of images, the `Dataloader` will load them from the `Dataset` and apply any transformations that have been specified. \n",
    "\n",
    "The `Dataset` here keeps track of all of the image paths, and when `__getitem__()` is called, loads the image and transforms it into a 224x224 `tensor`, along with a tensor representing the class of the image. The `Dataloader` then batches these tensors together and feeds them to the model."
   ]
  },
  {
   "cell_type": "code",
   "execution_count": null,
   "metadata": {},
   "outputs": [],
   "source": [
    "from transformers import ResNetForImageClassification\n",
    "import torch\n",
    "from torch.utils.data import DataLoader, Dataset"
   ]
  },
  {
   "cell_type": "code",
   "execution_count": null,
   "metadata": {},
   "outputs": [],
   "source": [
    "class ImageDataset(Dataset):\n",
    "    def __init__(self, data_dir):\n",
    "        self.data_dir = data_dir\n",
    "        self.classes = sorted(\n",
    "            [\n",
    "                image_class.name\n",
    "                for image_class in data_dir.glob(\"*\")\n",
    "                if not image_class.name.startswith(\".\")\n",
    "            ]\n",
    "        )\n",
    "        self.image_transforms = transforms.Compose(\n",
    "            [\n",
    "                transforms.Resize((224, 224)),\n",
    "                transforms.ToTensor(),\n",
    "            ]\n",
    "        )\n",
    "\n",
    "    def get_target_tensor(self, image_path):\n",
    "        target_tensor = torch.zeros(len(self.classes))\n",
    "        target_tensor[self.classes.index(image_path.parent.name)] = 1\n",
    "        return target_tensor\n",
    "\n",
    "    def __len__(self):\n",
    "        return len(list(self.data_dir.glob(\"**/*.jpg\")))\n",
    "\n",
    "    def __getitem__(self, idx):\n",
    "        image_path = list(self.data_dir.glob(\"**/*.jpg\"))[idx]\n",
    "        image = Image.open(image_path)\n",
    "        image_tensor = self.image_transforms(image)\n",
    "        target_tensor = self.get_target_tensor(image_path)\n",
    "        return image_tensor, target_tensor"
   ]
  },
  {
   "cell_type": "markdown",
   "metadata": {},
   "source": [
    "Let's create a `Dataset` and `DataLoader` for each of our training, validation, and test sets."
   ]
  },
  {
   "cell_type": "code",
   "execution_count": null,
   "metadata": {},
   "outputs": [],
   "source": [
    "train_dataset = ImageDataset(train_dir)\n",
    "val_dataset = ImageDataset(val_dir)\n",
    "test_dataset = ImageDataset(test_dir)"
   ]
  },
  {
   "cell_type": "code",
   "execution_count": null,
   "metadata": {},
   "outputs": [],
   "source": [
    "batch_size = 32\n",
    "\n",
    "train_dataloader = DataLoader(\n",
    "    train_dataset,\n",
    "    batch_size=batch_size,\n",
    "    num_workers=0,\n",
    "    shuffle=True,\n",
    ")\n",
    "\n",
    "val_dataloader = DataLoader(\n",
    "    val_dataset,\n",
    "    batch_size=batch_size,\n",
    "    num_workers=0,\n",
    ")\n",
    "\n",
    "test_dataloader = DataLoader(\n",
    "    test_dataset,\n",
    "    batch_size=batch_size,\n",
    "    num_workers=0,\n",
    ")"
   ]
  },
  {
   "cell_type": "markdown",
   "metadata": {},
   "source": [
    "## 7.6 Creating the model for fine-tuning\n",
    "\n",
    "Now we can create the model we'll use for fine-tuning. We'll use a pre-trained `resnet50` model from `torchvision`. Because this network has been trained on the ImageNet dataset, its last layer is 1000 neurons wide, with each one representing a different class. We'll replace this layer with a new layer which has two outputs, one for each of our new classes.\n",
    "\n",
    "We'll also freeze all of the layers except the final layer, so that only the final layer is trained during fine-tuning. This has the dual effect of \n",
    "- retaining all of the lower-level features that the model learned during its training on ImageNet, and \n",
    "- massively speeding up the transfer learning process, because we only have to train a single layer.\n",
    "\n",
    "We'll use the `Adam` optimizer to train the model, and the `CrossEntropyLoss` function to calculate the loss at each step."
   ]
  },
  {
   "cell_type": "code",
   "execution_count": null,
   "metadata": {},
   "outputs": [],
   "source": [
    "from torch.nn.functional import cross_entropy\n",
    "from torch import nn\n",
    "\n",
    "\n",
    "model_name = \"microsoft/resnet-50\"\n",
    "\n",
    "model = ResNetForImageClassification.from_pretrained(model_name)\n",
    "\n",
    "# replace the original classifier head with a linear layer,\n",
    "# squashing the output down to 2 classes\n",
    "model.classifier = nn.Sequential(\n",
    "    nn.Flatten(start_dim=1, end_dim=-1),\n",
    "    nn.Linear(in_features=2048, out_features=2, bias=True),\n",
    ")\n",
    "\n",
    "# freeze all the layers except the classifier head\n",
    "for param in model.parameters():\n",
    "    param.requires_grad = False\n",
    "\n",
    "for param in model.classifier.parameters():\n",
    "    param.requires_grad = True"
   ]
  },
  {
   "cell_type": "code",
   "execution_count": null,
   "metadata": {},
   "outputs": [],
   "source": [
    "optimiser = torch.optim.Adam(model.parameters(), lr=0.001)"
   ]
  },
  {
   "cell_type": "markdown",
   "metadata": {},
   "source": [
    "## 7.7 Training the model\n",
    "\n",
    "For each batch, we'll run the image tensors through the model, calculate the loss, and then backpropagate the loss through the model to update the weights. At the end of each epoch, we'll calculate the accuracy of the model's classifications against the validation set. \n",
    "\n",
    "For now, we'll just train the model for one epoch. We'll display the training and validation losses and accuracies, and keep track of them so that we can plot the whole thing later on."
   ]
  },
  {
   "cell_type": "code",
   "execution_count": null,
   "metadata": {},
   "outputs": [],
   "source": [
    "n_epochs = 1\n",
    "\n",
    "train_losses = []\n",
    "\n",
    "for epoch in range(n_epochs):\n",
    "    model.train()\n",
    "    train_progress_bar = tqdm(train_dataloader, desc=f\"Epoch {epoch}\")\n",
    "    for image_tensors, targets in train_progress_bar:\n",
    "        optimiser.zero_grad()\n",
    "\n",
    "        predicted_classes = model.forward(image_tensors)\n",
    "        loss = cross_entropy(predicted_classes.logits, targets)\n",
    "\n",
    "        loss.backward()\n",
    "        optimiser.step()\n",
    "\n",
    "        train_losses.append(loss.item())\n",
    "        train_loss = sum(train_losses[-10:]) / len(train_losses[-10:])\n",
    "        train_progress_bar.set_description(f\"Train loss: {train_loss:.3f}\")\n",
    "\n",
    "    val_losses = []\n",
    "    val_progress_bar = tqdm(val_dataloader, desc=f\"Epoch {epoch}\")\n",
    "    for image_tensors, targets in val_progress_bar:\n",
    "        model.eval()\n",
    "        predicted_classes = model.forward(image_tensors)\n",
    "        loss = cross_entropy(predicted_classes.logits, targets)\n",
    "        val_losses.append(loss.item())\n",
    "        mean_val_loss = sum(val_losses) / len(val_losses)\n",
    "        val_progress_bar.set_description(\n",
    "            f\"Train loss: {train_loss:.3f} Validation loss: {mean_val_loss:.3f}\"\n",
    "        )"
   ]
  },
  {
   "cell_type": "markdown",
   "metadata": {},
   "source": [
    "## 7.8 Plotting the training loss\n",
    "\n",
    "Let's have a look at the rolling mean of the training loss."
   ]
  },
  {
   "cell_type": "code",
   "execution_count": null,
   "metadata": {},
   "outputs": [],
   "source": [
    "import seaborn as sns\n",
    "import matplotlib.pyplot as plt\n",
    "import pandas as pd\n",
    "\n",
    "train_losses_df = pd.DataFrame(train_losses, columns=[\"train_loss\"])\n",
    "rolling_train_losses_df = train_losses_df.rolling(10).mean()\n",
    "rolling_train_losses_df.plot()"
   ]
  },
  {
   "cell_type": "markdown",
   "metadata": {},
   "source": [
    "We can also use our newly trained model in evaluation mode to make predictions on the test set. We'll work our way through the test set, and for each image, we'll predict the class and compare it to the actual class. We'll then calculate the accuracy of the model's predictions, and display the results as a classification report and a confusion matrix."
   ]
  },
  {
   "cell_type": "code",
   "execution_count": null,
   "metadata": {},
   "outputs": [],
   "source": [
    "\n",
    "model.eval()\n",
    "\n",
    "y_true = []\n",
    "y_predicted = []\n",
    "\n",
    "for image_tensors, targets in tqdm(test_dataloader):\n",
    "    predicted_classes = model.forward(image_tensors)\n",
    "    predicted_labels = predicted_classes.logits.argmax(dim=1)\n",
    "    y_true.extend(targets.argmax(dim=1).tolist())\n",
    "    y_predicted.extend(predicted_labels.tolist())"
   ]
  },
  {
   "cell_type": "code",
   "execution_count": null,
   "metadata": {},
   "outputs": [],
   "source": [
    "from sklearn.metrics import classification_report, confusion_matrix"
   ]
  },
  {
   "cell_type": "code",
   "execution_count": null,
   "metadata": {},
   "outputs": [],
   "source": [
    "print(classification_report(y_true, y_predicted))"
   ]
  },
  {
   "cell_type": "markdown",
   "metadata": {},
   "source": [
    "With a minimal amount of training data, and without any custom feature engineering, we were able to train a model that can classify images of portraits and landscapes with 98% accuracy! This is pretty remarkable, considering the fact that we didn't have to specify any rules or features for telling the computer how to tell the difference between the classes.\n",
    "\n",
    "We can visualise the classification metrics differently, using a confusion matrix. We can use it to see which classes are getting confused, i.e., whether the model is misclassifying portraits as landscapes or vice versa."
   ]
  },
  {
   "cell_type": "code",
   "execution_count": null,
   "metadata": {},
   "outputs": [],
   "source": [
    "cm = confusion_matrix(y_true, y_predicted)\n",
    "sns.heatmap(cm, annot=True, fmt=\"d\")\n",
    "\n",
    "plt.xlabel(\"Predicted\")\n",
    "plt.xticks([0.5, 1.5], [\"landscape\", \"portrait\"])\n",
    "\n",
    "plt.ylabel(\"True\")\n",
    "plt.yticks([0.5, 1.5], [\"landscape\", \"portrait\"], rotation=0)\n",
    "\n",
    "plt.show()"
   ]
  },
  {
   "cell_type": "markdown",
   "metadata": {},
   "source": [
    "## 7.9 Inspecting the model's predictions\n",
    "\n",
    "Let's have a look at some random images from the test set, and see how the model classifies them."
   ]
  },
  {
   "cell_type": "code",
   "execution_count": null,
   "metadata": {},
   "outputs": [],
   "source": [
    "import random"
   ]
  },
  {
   "cell_type": "code",
   "execution_count": null,
   "metadata": {},
   "outputs": [],
   "source": [
    "# get a real image from the test set and run it through the model\n",
    "dataset = test_dataloader.dataset\n",
    "image_tensor, target_tensor = random.choice(dataset)\n",
    "predicted_classes = model.forward(image_tensor.unsqueeze(0))\n",
    "prediction = predicted_classes.logits\n",
    "\n",
    "# show the image\n",
    "plt.imshow(image_tensor.permute(1, 2, 0))\n",
    "plt.show()\n",
    "\n",
    "# print the probabilities and the predicted class\n",
    "print(\"Probabilities:\", prediction.softmax(dim=1).squeeze().tolist())\n",
    "print(\"True:\", dataset.classes[target_tensor.argmax().item()])\n",
    "print(\"Predicted:\", dataset.classes[prediction.argmax().item()])"
   ]
  },
  {
   "cell_type": "markdown",
   "metadata": {},
   "source": [
    "By inspecting the predicted probabilities for each class and the true labels, we can look directly at the images where the model is most/least confident in its predictions, and, most interestingly, the images which it gets most wrong!"
   ]
  },
  {
   "cell_type": "code",
   "execution_count": null,
   "metadata": {},
   "outputs": [],
   "source": [
    "# find the images in the test set which the model has misclassified\n",
    "\n",
    "confused_indexes = [\n",
    "    index\n",
    "    for index, (y_true, y_pred) in enumerate(zip(y_true, y_predicted))\n",
    "    if y_true != y_pred\n",
    "]\n",
    "\n",
    "len(confused_indexes)"
   ]
  },
  {
   "cell_type": "code",
   "execution_count": null,
   "metadata": {},
   "outputs": [],
   "source": [
    "# show the images where the model got confused\n",
    "\n",
    "for index in confused_indexes:\n",
    "    image_tensor, true_label = test_dataset[index]\n",
    "    prediction = model.forward(image_tensor.unsqueeze(0)).logits\n",
    "    predicted_label = prediction.argmax(dim=1)\n",
    "\n",
    "    # show the image\n",
    "    plt.imshow(image_tensor.permute(1, 2, 0))\n",
    "    plt.show()\n",
    "\n",
    "    # show the predicted class\n",
    "    classes = {0: \"landscape\", 1: \"portrait\"}\n",
    "\n",
    "    print(\"Probabilities:\", prediction.softmax(dim=1).squeeze().tolist())\n",
    "    print(\"True:\", classes[true_label.argmax().item()])\n",
    "    print(\"Predicted:\", classes[predicted_label.item()])"
   ]
  },
  {
   "attachments": {},
   "cell_type": "markdown",
   "metadata": {},
   "source": [
    "A lot of those misclassifications are quite understandable - I might have guessed that some of those portraits were landscapes, too. We could use these misclassifications to improve our model, but that's beyond the scope of this notebook.\n",
    "\n",
    "# Exercises\n",
    "\n",
    "1. Adapt this notebook to classify a different pair of subjects\n",
    "2. Adapt the code to classify more than two subjects!\n",
    "3. Try using a different pre-trained model from `torchvision.models`\n",
    "4. Balance the class weights used by the optimiser by using [sklearn's `compute_class_weight` function](https://scikit-learn.org/stable/modules/generated/sklearn.utils.class_weight.compute_class_weight.html)"
   ]
  }
 ],
 "metadata": {
  "kernelspec": {
   "display_name": "Python 3",
   "language": "python",
   "name": "python3"
  },
  "language_info": {
   "codemirror_mode": {
    "name": "ipython",
    "version": 3
   },
   "file_extension": ".py",
   "mimetype": "text/x-python",
   "name": "python",
   "nbconvert_exporter": "python",
   "pygments_lexer": "ipython3",
   "version": "3.10.11"
  }
 },
 "nbformat": 4,
 "nbformat_minor": 2
}
