{
 "cells": [
  {
   "attachments": {},
   "cell_type": "markdown",
   "metadata": {},
   "source": [
    "# 1. Exploring Wellcome Collection's APIs\n",
    "\n",
    "Wellcome collection has a few public APIs which can be used to fetch things like works, images, and concepts. They all live behind the following base URL"
   ]
  },
  {
   "cell_type": "code",
   "execution_count": 1,
   "metadata": {},
   "outputs": [],
   "source": [
    "base_url = \"https://api.wellcomecollection.org/catalogue/v2/\""
   ]
  },
  {
   "attachments": {},
   "cell_type": "markdown",
   "metadata": {},
   "source": [
    "The APIs are primarily built to serve the [Wellcome Collection website](https://wellcomecollection.org/), but they are also available for anyone to use! They're a great way to get access to the data that Wellcome Collection has about its collections programmatically.\n",
    "\n",
    "## 1.1 Making requests\n",
    "\n",
    "We can make requests to that base API URL using the `requests` library. Let's have a look at the `/works` endpoint first."
   ]
  },
  {
   "cell_type": "code",
   "execution_count": 2,
   "metadata": {},
   "outputs": [
    {
     "data": {
      "text/plain": [
       "200"
      ]
     },
     "execution_count": 2,
     "metadata": {},
     "output_type": "execute_result"
    }
   ],
   "source": [
    "import requests\n",
    "\n",
    "response = requests.get(base_url + \"works\")\n",
    "response.status_code"
   ]
  },
  {
   "attachments": {},
   "cell_type": "markdown",
   "metadata": {},
   "source": [
    "The response has a `200` status code, which indicates that the works API has responded successfully.\n",
    "\n",
    "Let's have a look at the fields it gives us."
   ]
  },
  {
   "cell_type": "code",
   "execution_count": 3,
   "metadata": {},
   "outputs": [
    {
     "data": {
      "text/plain": [
       "['type', 'pageSize', 'totalPages', 'totalResults', 'results', 'nextPage']"
      ]
     },
     "execution_count": 3,
     "metadata": {},
     "output_type": "execute_result"
    }
   ],
   "source": [
    "list(response.json())"
   ]
  },
  {
   "attachments": {},
   "cell_type": "markdown",
   "metadata": {},
   "source": [
    "Let's look at everything _except_ the `results` field for now"
   ]
  },
  {
   "cell_type": "code",
   "execution_count": 4,
   "metadata": {},
   "outputs": [
    {
     "name": "stdout",
     "output_type": "stream",
     "text": [
      "type ResultList\n",
      "pageSize 10\n",
      "totalPages 116058\n",
      "totalResults 1160574\n",
      "nextPage https://api.wellcomecollection.org/catalogue/v2/works?page=2\n"
     ]
    }
   ],
   "source": [
    "for key, value in response.json().items():\n",
    "    if key != \"results\":\n",
    "        print(key, value)"
   ]
  },
  {
   "attachments": {},
   "cell_type": "markdown",
   "metadata": {},
   "source": [
    "1,160,572 works! That's a lot of works. We're only seeing 10 in this response though, because the `pageSize` is set to 10 by default.\n",
    "\n",
    "Let's have a look at the fields in the first result."
   ]
  },
  {
   "cell_type": "code",
   "execution_count": 5,
   "metadata": {},
   "outputs": [
    {
     "data": {
      "text/plain": [
       "['physicalDescription',\n",
       " 'workType',\n",
       " 'alternativeTitles',\n",
       " 'id',\n",
       " 'title',\n",
       " 'type',\n",
       " 'availabilities']"
      ]
     },
     "execution_count": 5,
     "metadata": {},
     "output_type": "execute_result"
    }
   ],
   "source": [
    "results = response.json()[\"results\"]\n",
    "first_result = results[0]\n",
    "list(first_result)"
   ]
  },
  {
   "attachments": {},
   "cell_type": "markdown",
   "metadata": {},
   "source": [
    "And here's the full first result, with all of its values."
   ]
  },
  {
   "cell_type": "code",
   "execution_count": 6,
   "metadata": {},
   "outputs": [
    {
     "data": {
      "text/plain": [
       "{'physicalDescription': '[2],51,[1]p. ; 80.',\n",
       " 'workType': {'id': 'a', 'label': 'Books', 'type': 'Format'},\n",
       " 'alternativeTitles': [],\n",
       " 'id': 'a222wwjt',\n",
       " 'title': \"The pigeon-Pye, or, a King's coronation, proper materials for forming an oratorio, opera, or play, according to the modern taste: To Be Represented in Opposition to the Dragon of Wantley. By an admirer of bad composition, and author of - nothing.\",\n",
       " 'type': 'Work',\n",
       " 'availabilities': [{'id': 'online',\n",
       "   'label': 'Online',\n",
       "   'type': 'Availability'}]}"
      ]
     },
     "execution_count": 6,
     "metadata": {},
     "output_type": "execute_result"
    }
   ],
   "source": [
    "first_result"
   ]
  },
  {
   "attachments": {},
   "cell_type": "markdown",
   "metadata": {},
   "source": [
    "## 1.2 Requesting individual works\n",
    "\n",
    "We can make requests for individual works by adding an ID to the end of our works API URL. Here's the first work again, but this time we're requesting it by ID."
   ]
  },
  {
   "cell_type": "code",
   "execution_count": 7,
   "metadata": {},
   "outputs": [
    {
     "data": {
      "text/plain": [
       "'https://api.wellcomecollection.org/catalogue/v2/works/a222wwjt'"
      ]
     },
     "execution_count": 7,
     "metadata": {},
     "output_type": "execute_result"
    }
   ],
   "source": [
    "first_work_id = results[0][\"id\"]\n",
    "work_url = base_url + \"works/\" + first_work_id\n",
    "work_url"
   ]
  },
  {
   "cell_type": "code",
   "execution_count": 8,
   "metadata": {},
   "outputs": [
    {
     "data": {
      "text/plain": [
       "{'physicalDescription': '[2],51,[1]p. ; 80.',\n",
       " 'workType': {'id': 'a', 'label': 'Books', 'type': 'Format'},\n",
       " 'alternativeTitles': [],\n",
       " 'id': 'a222wwjt',\n",
       " 'title': \"The pigeon-Pye, or, a King's coronation, proper materials for forming an oratorio, opera, or play, according to the modern taste: To Be Represented in Opposition to the Dragon of Wantley. By an admirer of bad composition, and author of - nothing.\",\n",
       " 'type': 'Work',\n",
       " 'availabilities': [{'id': 'online',\n",
       "   'label': 'Online',\n",
       "   'type': 'Availability'}]}"
      ]
     },
     "execution_count": 8,
     "metadata": {},
     "output_type": "execute_result"
    }
   ],
   "source": [
    "response = requests.get(work_url).json()\n",
    "response"
   ]
  },
  {
   "attachments": {},
   "cell_type": "markdown",
   "metadata": {},
   "source": [
    "As expected, the data is the same as the first result in the previous response.\n",
    "\n",
    "## 1.3 Sorting and searching\n",
    "\n",
    "By default, works are sorted by the alphabetical order of their IDs (so we're seeing `a222wwjt` first, followed by other works starting with `a22...`)."
   ]
  },
  {
   "cell_type": "code",
   "execution_count": 9,
   "metadata": {},
   "outputs": [
    {
     "name": "stdout",
     "output_type": "stream",
     "text": [
      "a222wwjt\n",
      "a222zvge\n",
      "a2239muq\n",
      "a223speg\n",
      "a2242545\n",
      "a22526q9\n",
      "a2262ru9\n",
      "a226rz35\n",
      "a227dajt\n",
      "a227y9ye\n"
     ]
    }
   ],
   "source": [
    "response = requests.get(base_url + \"works\").json()\n",
    "\n",
    "for work in response[\"results\"]:\n",
    "    print(work[\"id\"])"
   ]
  },
  {
   "attachments": {},
   "cell_type": "markdown",
   "metadata": {},
   "source": [
    "We can add a `query` query parameter to our request to see results sorted by relevance. Let's search for works that contain the word \"horse\"."
   ]
  },
  {
   "cell_type": "code",
   "execution_count": 10,
   "metadata": {},
   "outputs": [
    {
     "name": "stdout",
     "output_type": "stream",
     "text": [
      "1. Shire horse stud book.\n",
      "   https://wellcomecollection.org/works/pgwnkf2h\n",
      "\n",
      "2. Horse restrained in horse-box for injection\n",
      "   https://wellcomecollection.org/works/v4t9q43f\n",
      "\n",
      "3. Horse doctor giving medicine to a horse, German, 18th century\n",
      "   https://wellcomecollection.org/works/wb4aqmdf\n",
      "\n",
      "4. Horse foetuses: five figures showing the foetus of a horse during the gestation period, with dissections of its abdomen and stomach demonstrating the foetal circulation system. Engraving by T. Cowan after B. Herring, ca. 1860.\n",
      "   https://wellcomecollection.org/works/c3xsp8nx\n",
      "\n",
      "5. Reports on African horse-sickness / [by J.A. Nunn].\n",
      "   https://wellcomecollection.org/works/eck73b9q\n",
      "\n",
      "6. An elegy upon his honoured friend Mr. James Herewyn, unfortunately slain by a fall from his horse.\n",
      "   https://wellcomecollection.org/works/fqsyrgnu\n",
      "\n",
      "7. Cavalarice. Or the English horseman: contayning all the art of horsemanship, asmuch as is necessary for any man to vnderstand, whether hee be horse-breeder, horse-ryder, horse-hunter, horse-runner, horse-ambler, horse-farrier, horse-keeper, coachman, smith, or sadler. Together, with the discouery of the subtil trade or mystery of hors-coursers, and an explanation of the excellency of a horses vnderstanding / [Gervase Markham].\n",
      "   https://wellcomecollection.org/works/sa4g688j\n",
      "\n",
      "8. Above, an arabian horse, a race horse, a draft horse and an ass; below, two zebras. Engraving.\n",
      "   https://wellcomecollection.org/works/tagsqk88\n",
      "\n",
      "9. Cavelarice, or The English horseman : contayning all the arte of horse-manship, as much as is necessary for any man to vnderstand, whether he be horse-breeder, horse-ryder, horse-hunter, horse-runner, horse-ambler, horse-farrier, horse-keeper, coachman, smith, or sadler. Together, with the discouery of the subtill trade or mistery of horse-coursers, & an explanatio[n] of the excellency of a horses vndersta[n]ding, or how to teach them to doe trickes like Bankes his curtall: and that horses may be made to drawe drie-foot like a hound. Secrets before vnpublished, & now carefully set down for the profit of this whole nation / by Geruase Markham.\n",
      "   https://wellcomecollection.org/works/xjpn3jtb\n",
      "\n",
      "10. Boyle's vade mecum; or, the gentleman's pocket companion. Being a complete investigation of the nature and structure of the horse: Shewing his true Proportion, by which his Perfections and Blemishes are ascertained with Ease and Precision; so as to discover his Disorders by their Symptoms, and the most rational Treatment and Cure. With the approved method of breaking and training. Embellished with Three Copper-Plates, delineating the true Anatomy of that noble and valuable Animal, with proper References. From the original manuscript of D. Phenegan and J. Daly, Late of Newmarket and the Curragh of Kildare. To which is annexed practical receipts, For the Cure of Oxen, Cows, Sheep, &c.\n",
      "   https://wellcomecollection.org/works/ynsuuddy\n",
      "\n"
     ]
    }
   ],
   "source": [
    "response = requests.get(base_url + \"/works\", params={\"query\": \"horse\"}).json()\n",
    "for i, result in enumerate(response[\"results\"]):\n",
    "    print(f\"{i+1}. {result['title']}\")\n",
    "    print(f\"   https://wellcomecollection.org/works/{result['id']}\")\n",
    "    print()"
   ]
  },
  {
   "attachments": {},
   "cell_type": "markdown",
   "metadata": {},
   "source": [
    "Here, the results are sorted by how relevant they are to the search term.\n",
    "\n",
    "We can also sort the results by other fields. Let's try sorting by when the works were produced, using the `production.dates` field. We'll also add an `include` parameter to our request, so that we can see the `production.dates` field in the results."
   ]
  },
  {
   "cell_type": "code",
   "execution_count": 11,
   "metadata": {},
   "outputs": [],
   "source": [
    "response = requests.get(\n",
    "    base_url + \"/works\",\n",
    "    params={\n",
    "        \"query\": \"horse\",\n",
    "        \"sort\": \"production.dates\",\n",
    "        \"include\": \"production\",\n",
    "    },\n",
    ").json()"
   ]
  },
  {
   "attachments": {},
   "cell_type": "markdown",
   "metadata": {},
   "source": [
    "The `production` field is an array of `ProductionEvent` objects, each of which has:\n",
    "- a `label`\n",
    "- a list of `agents`\n",
    "- a list of `dates`\n",
    "- a list of `places`\n",
    "\n",
    "We can see those for the first result in the list like this:"
   ]
  },
  {
   "cell_type": "code",
   "execution_count": 12,
   "metadata": {},
   "outputs": [
    {
     "data": {
      "text/plain": [
       "[{'label': 'Mid 14th century',\n",
       "  'agents': [],\n",
       "  'dates': [{'label': 'Mid 14th century', 'type': 'Period'}],\n",
       "  'type': 'ProductionEvent',\n",
       "  'places': []}]"
      ]
     },
     "execution_count": 12,
     "metadata": {},
     "output_type": "execute_result"
    }
   ],
   "source": [
    "response[\"results\"][0][\"production\"]"
   ]
  },
  {
   "attachments": {},
   "cell_type": "markdown",
   "metadata": {},
   "source": [
    "Internally, each `productionEvent` date has a start and an end (because often we don't know _exactly_ when a work was produced). The works for our request are sorted by the earliest _start_ date in their `production.dates` field."
   ]
  },
  {
   "cell_type": "code",
   "execution_count": 13,
   "metadata": {},
   "outputs": [
    {
     "name": "stdout",
     "output_type": "stream",
     "text": [
      "1. Galenic miscellany\n",
      "   Mid 14th century\n",
      "   https://wellcomecollection.org/works/t4rdykqn\n",
      "\n",
      "2. Middle English medical miscellany, including receipts and charms (Leech-Books, VI)\n",
      "   Late 14th-early 15th century\n",
      "   https://wellcomecollection.org/works/y7xcant4\n",
      "\n",
      "3. Medical Compendium in English\n",
      "   15th century\n",
      "   https://wellcomecollection.org/works/rs9qgwh8\n",
      "\n",
      "4. Works on regimen\n",
      "   Late 15th Century\n",
      "   https://wellcomecollection.org/works/d8ge66h7\n",
      "\n",
      "5. Collection of remedies for the diseases of horses\n",
      "   c.1500\n",
      "   https://wellcomecollection.org/works/rt2w4mjw\n",
      "\n",
      "6. Giordano Ruffo, <i>Libro dell'infirmita dei cavalli</i>, and other texts\n",
      "   c.1500\n",
      "   https://wellcomecollection.org/works/aqhz7ht6\n",
      "\n",
      "7. A skeleton sits backwards on a horse waiting for a blacksmith, dressed as a fool, to finish his job. Woodcut.\n",
      "   [1494-1497]\n",
      "   https://wellcomecollection.org/works/v5keep94\n",
      "\n",
      "8. Antiquities of Rome. Album of engravings, 15--.\n",
      "   [between 1500 and 1599]\n",
      "   https://wellcomecollection.org/works/gr7nvaqm\n",
      "\n",
      "9. Here begynneth the proprytees and medycynes for hors.\n",
      "   [1502?]\n",
      "   https://wellcomecollection.org/works/qfupe3y4\n",
      "\n",
      "10. Commentariorum urbanorum libri XXXVIII. Item Oeconomicus Xenophontis ab eodem latio donatus.\n",
      "   1511\n",
      "   https://wellcomecollection.org/works/g6jtrkfk\n",
      "\n"
     ]
    }
   ],
   "source": [
    "for i, result in enumerate(response[\"results\"]):\n",
    "    print(f\"{i+1}. {result['title']}\")\n",
    "    print(f\"   {result['production'][0]['dates'][0]['label']}\")\n",
    "    print(f\"   https://wellcomecollection.org/works/{result['id']}\")\n",
    "    print()"
   ]
  },
  {
   "attachments": {},
   "cell_type": "markdown",
   "metadata": {},
   "source": [
    "Those results are in ascending order, but we can also change the `sortOrder` to give us newer works first."
   ]
  },
  {
   "cell_type": "code",
   "execution_count": 14,
   "metadata": {},
   "outputs": [
    {
     "name": "stdout",
     "output_type": "stream",
     "text": [
      "1. George Stubbs : 'all done from nature' / [curated by Paul Bonaventura, Martin Postle and Anthony Spira].\n",
      "   2019\n",
      "   https://wellcomecollection.org/works/a8pxrhjn\n",
      "\n",
      "2. The world I fell out of / Melanie Reid ; foreword by Andrew Marr.\n",
      "   2019\n",
      "   https://wellcomecollection.org/works/k99u64v4\n",
      "\n",
      "3. Reefer madness comics / edited and designed by Craig Yoe ; introduction written by Craig Yoe with Steven Thompson.\n",
      "   2018\n",
      "   https://wellcomecollection.org/works/tj4pk7qj\n",
      "\n",
      "4. Inferno : a doctor's ebola story / Steven Hatch, M.D.\n",
      "   2017\n",
      "   https://wellcomecollection.org/works/pbvnushb\n",
      "\n",
      "5. Animal metropolis : histories of human-animal relations in urban Canada / edited by Joanna Dean, Darcy Ingram, and Christabelle Sethna.\n",
      "   [2017]\n",
      "   https://wellcomecollection.org/works/q736twd3\n",
      "\n",
      "6. The state of Grace / Rachael Lucas.\n",
      "   2017\n",
      "   https://wellcomecollection.org/works/dra4bt4m\n",
      "\n",
      "7. Insider trading : how mortuaries, medicine and money have built a global market in human cadaver parts / Naomi Pfeffer.\n",
      "   [2017]\n",
      "   https://wellcomecollection.org/works/jab32w7a\n",
      "\n",
      "8. Participatory heritage / edited by Henriette Roued-Cunliffe and Andrea Copeland.\n",
      "   2017\n",
      "   https://wellcomecollection.org/works/stzzm3mc\n",
      "\n",
      "9. The age of the horse : an equine journey through human history / Susanna Forrest.\n",
      "   2016\n",
      "   https://wellcomecollection.org/works/uxcxfj9d\n",
      "\n",
      "10. Speaking of bodies : embodied therapeutic dialogues / edited by Asaf Rolef Ben-Shahar, Liron Lipkies, and Noa Oster.\n",
      "   2016\n",
      "   https://wellcomecollection.org/works/cvvkykjd\n",
      "\n"
     ]
    }
   ],
   "source": [
    "response = requests.get(\n",
    "    base_url + \"/works\",\n",
    "    params={\n",
    "        \"query\": \"horse\",\n",
    "        \"sort\": \"production.dates\",\n",
    "        \"sortOrder\": \"desc\",\n",
    "        \"include\": \"production\",\n",
    "    },\n",
    ").json()\n",
    "\n",
    "for i, result in enumerate(response[\"results\"]):\n",
    "    print(f\"{i+1}. {result['title']}\")\n",
    "    print(f\"   {result['production'][0]['dates'][0]['label']}\")\n",
    "    print(f\"   https://wellcomecollection.org/works/{result['id']}\")\n",
    "    print()"
   ]
  },
  {
   "attachments": {},
   "cell_type": "markdown",
   "metadata": {},
   "source": [
    "## 1.4 Filtering results\n",
    "\n",
    "We can ask the API to return works between a set of dates, using the `production.dates.from` and `production.dates.to` parameters. Let's ask for works produced between 1900 and 1910."
   ]
  },
  {
   "cell_type": "code",
   "execution_count": 15,
   "metadata": {},
   "outputs": [
    {
     "data": {
      "text/plain": [
       "45830"
      ]
     },
     "execution_count": 15,
     "metadata": {},
     "output_type": "execute_result"
    }
   ],
   "source": [
    "response = requests.get(\n",
    "    base_url + \"/works\",\n",
    "    params={\n",
    "        \"production.dates.from\": \"1900-01-01\",\n",
    "        \"production.dates.to\": \"1910-01-01\",\n",
    "    },\n",
    ").json()\n",
    "\n",
    "response[\"totalResults\"]"
   ]
  },
  {
   "attachments": {},
   "cell_type": "markdown",
   "metadata": {},
   "source": [
    "Previously, we used the `production.dates` to _sort_ our results. \n",
    "\n",
    "Here, the results are sorted in the default order (ie sorted by `id`), but they're _filtered_ to only show works which were produced in the range we're interested in.\n",
    "\n",
    "We can also filter by lots of other fields, like subjects! Let's ask for works about cats, by using the `subjects.label` field."
   ]
  },
  {
   "cell_type": "code",
   "execution_count": 16,
   "metadata": {},
   "outputs": [
    {
     "data": {
      "text/plain": [
       "258"
      ]
     },
     "execution_count": 16,
     "metadata": {},
     "output_type": "execute_result"
    }
   ],
   "source": [
    "response = requests.get(\n",
    "    base_url + \"/works\",\n",
    "    params={\n",
    "        \"subjects.label\": \"Cats\",\n",
    "    },\n",
    ").json()\n",
    "\n",
    "response[\"totalResults\"]"
   ]
  },
  {
   "attachments": {},
   "cell_type": "markdown",
   "metadata": {},
   "source": [
    "\n",
    "\n",
    "## 1.5 Including extra fields in the response\n",
    "\n",
    "We can ask the API to give us extra information in the response by adding an `include` query parameter to our request, as we did above to get our `production` events for each work.\n",
    "\n",
    "There are lots of other fields we can request for each work:\n",
    "\n",
    "- `identifiers`\n",
    "- `items`\n",
    "- `holdings`\n",
    "- `subjects`\n",
    "- `genres`\n",
    "- `contributors`\n",
    "- `production`\n",
    "- `languages`\n",
    "- `notes`\n",
    "- `images`\n",
    "- `succeededBy`\n",
    "- `precededBy`\n",
    "- `partOf`\n",
    "- `parts`\n",
    "\n",
    "The full documentation for each of them is available in the [API documentation](https://developers.wellcomecollection.org/api/catalogue#tag/Works/operation/getWorks).\n",
    "\n",
    "Let's have a look at `subjects`, as an example."
   ]
  },
  {
   "cell_type": "code",
   "execution_count": 17,
   "metadata": {},
   "outputs": [],
   "source": [
    "response = requests.get(\n",
    "    base_url + \"/works\",\n",
    "    params={\n",
    "        \"include\": \"subjects\",\n",
    "    },\n",
    ").json()"
   ]
  },
  {
   "attachments": {},
   "cell_type": "markdown",
   "metadata": {},
   "source": [
    "The `subjects` field is an array of `Subject` objects, each of which has:\n",
    "- a `label`\n",
    "- an `id`\n",
    "- a list of `concepts`, where each concept has\n",
    "    - a `label`\n",
    "    - an `id`\n",
    "    - a `type`, eg `Concept`, `Period`, `Person`, `Place`\n",
    "\n",
    "We can see those for the first result in the response like this:"
   ]
  },
  {
   "cell_type": "code",
   "execution_count": 18,
   "metadata": {},
   "outputs": [
    {
     "data": {
      "text/plain": [
       "[{'label': 'English drama - 18th century',\n",
       "  'concepts': [{'id': 'h2ctt8e6', 'label': 'English drama', 'type': 'Concept'},\n",
       "   {'id': 'nhvtuf2z', 'label': '18th century', 'type': 'Period'}],\n",
       "  'id': 'nxrdce2w',\n",
       "  'type': 'Subject'}]"
      ]
     },
     "execution_count": 18,
     "metadata": {},
     "output_type": "execute_result"
    }
   ],
   "source": [
    "response[\"results\"][0][\"subjects\"]"
   ]
  },
  {
   "attachments": {},
   "cell_type": "markdown",
   "metadata": {},
   "source": [
    "In the next notebook, we'll start requesting bigger batches of data and doing some more local data science and analysis to answer some more interesting questions. In the meantime, here are some exercises to test your understanding of what we've covered so far.\n",
    "\n",
    "\n",
    "## Exercises\n",
    "\n",
    "1. Fetch the data for the work with the id `ca5c6h4x`\n",
    "2. Make a request for a work which includes all of its `genres` (these are the types/techniques of the work, eg `painting`, `etching`, `poster`)\n",
    "3. Find the oldest and newest work about `pigs` in the collection\n",
    "4. Filter the works about `pigs` to only include those that were produced in the 20th century"
   ]
  },
  {
   "cell_type": "markdown",
   "metadata": {},
   "source": []
  }
 ],
 "metadata": {
  "kernelspec": {
   "display_name": "Python 3",
   "language": "python",
   "name": "python3"
  },
  "language_info": {
   "codemirror_mode": {
    "name": "ipython",
    "version": 3
   },
   "file_extension": ".py",
   "mimetype": "text/x-python",
   "name": "python",
   "nbconvert_exporter": "python",
   "pygments_lexer": "ipython3",
   "version": "3.10.11"
  },
  "orig_nbformat": 4
 },
 "nbformat": 4,
 "nbformat_minor": 2
}
