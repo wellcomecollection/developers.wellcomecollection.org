{
 "cells": [
  {
   "attachments": {},
   "cell_type": "markdown",
   "metadata": {},
   "source": [
    "# 1. Exploring Wellcome Collection's APIs\n",
    "\n",
    "Wellcome collection has a few public APIs which can be used to fetch things like works, images, and concepts. They all live behind the following base URL:"
   ]
  },
  {
   "cell_type": "code",
   "execution_count": null,
   "metadata": {},
   "outputs": [],
   "source": [
    "base_url = \"https://api.wellcomecollection.org/catalogue/v2/\""
   ]
  },
  {
   "attachments": {},
   "cell_type": "markdown",
   "metadata": {},
   "source": [
    "The APIs are primarily built to serve the [Wellcome Collection website](https://wellcomecollection.org/), but they are also available for anyone to use! They're a great way to get access to the data that Wellcome Collection has about its collections programmatically.\n",
    "\n",
    "## 1.1 Making requests\n",
    "\n",
    "We can make requests to that base API URL using the `requests` library. Let's have a look at the `/works` endpoint first."
   ]
  },
  {
   "cell_type": "code",
   "execution_count": null,
   "metadata": {},
   "outputs": [],
   "source": [
    "import requests\n",
    "\n",
    "response = requests.get(base_url + \"works\")\n",
    "response.status_code"
   ]
  },
  {
   "attachments": {},
   "cell_type": "markdown",
   "metadata": {},
   "source": [
    "The response has a `200` status code, which indicates that the works API has responded successfully.\n",
    "\n",
    "Let's have a look at the fields it gives us."
   ]
  },
  {
   "cell_type": "code",
   "execution_count": null,
   "metadata": {},
   "outputs": [],
   "source": [
    "list(response.json())"
   ]
  },
  {
   "attachments": {},
   "cell_type": "markdown",
   "metadata": {},
   "source": [
    "Let's look at everything _except_ the `results` field for now"
   ]
  },
  {
   "cell_type": "code",
   "execution_count": null,
   "metadata": {},
   "outputs": [],
   "source": [
    "for key, value in response.json().items():\n",
    "    if key != \"results\":\n",
    "        print(key, value)"
   ]
  },
  {
   "attachments": {},
   "cell_type": "markdown",
   "metadata": {},
   "source": [
    "1,160,572 works! That's a lot of works. We're only seeing 10 in this response though, because the `pageSize` is set to 10 by default.\n",
    "\n",
    "Let's have a look at the fields in the first result."
   ]
  },
  {
   "cell_type": "code",
   "execution_count": null,
   "metadata": {},
   "outputs": [],
   "source": [
    "results = response.json()[\"results\"]\n",
    "first_result = results[0]\n",
    "list(first_result)"
   ]
  },
  {
   "attachments": {},
   "cell_type": "markdown",
   "metadata": {},
   "source": [
    "And here's the full first result, with all of its values."
   ]
  },
  {
   "cell_type": "code",
   "execution_count": null,
   "metadata": {},
   "outputs": [],
   "source": [
    "first_result"
   ]
  },
  {
   "attachments": {},
   "cell_type": "markdown",
   "metadata": {},
   "source": [
    "## 1.2 Requesting individual works\n",
    "\n",
    "We can make requests for individual works by adding an ID to the end of our works API URL. Here's the first work again, but this time we're requesting it by ID."
   ]
  },
  {
   "cell_type": "code",
   "execution_count": null,
   "metadata": {},
   "outputs": [],
   "source": [
    "first_work_id = results[0][\"id\"]\n",
    "work_url = base_url + \"works/\" + first_work_id\n",
    "work_url"
   ]
  },
  {
   "cell_type": "code",
   "execution_count": null,
   "metadata": {},
   "outputs": [],
   "source": [
    "response = requests.get(work_url).json()\n",
    "response"
   ]
  },
  {
   "attachments": {},
   "cell_type": "markdown",
   "metadata": {},
   "source": [
    "As expected, the data is the same as the first result in the previous response.\n",
    "\n",
    "## 1.3 Sorting and searching\n",
    "\n",
    "By default, works are sorted by the alphabetical order of their IDs (so we're seeing `a222wwjt` first, followed by other works starting with `a22...`)."
   ]
  },
  {
   "cell_type": "code",
   "execution_count": null,
   "metadata": {},
   "outputs": [],
   "source": [
    "response = requests.get(base_url + \"works\").json()\n",
    "\n",
    "for work in response[\"results\"]:\n",
    "    print(work[\"id\"])"
   ]
  },
  {
   "attachments": {},
   "cell_type": "markdown",
   "metadata": {},
   "source": [
    "We can add a `query` query parameter to our request to see results sorted by relevance. Let's search for works that contain the word \"horse\"."
   ]
  },
  {
   "cell_type": "code",
   "execution_count": null,
   "metadata": {},
   "outputs": [],
   "source": [
    "response = requests.get(base_url + \"/works\", params={\"query\": \"horse\"}).json()\n",
    "for i, result in enumerate(response[\"results\"]):\n",
    "    print(f\"{i+1}. {result['title']}\")\n",
    "    print(f\"   https://wellcomecollection.org/works/{result['id']}\")\n",
    "    print()"
   ]
  },
  {
   "attachments": {},
   "cell_type": "markdown",
   "metadata": {},
   "source": [
    "Here, the results are sorted by how relevant they are to the search term.\n",
    "\n",
    "We can also sort the results by other fields. Let's try sorting by when the works were produced, using the `production.dates` field. We'll also add an `include` parameter to our request, so that we can see the `production.dates` field in the results."
   ]
  },
  {
   "cell_type": "code",
   "execution_count": null,
   "metadata": {},
   "outputs": [],
   "source": [
    "response = requests.get(\n",
    "    base_url + \"/works\",\n",
    "    params={\n",
    "        \"query\": \"horse\",\n",
    "        \"sort\": \"production.dates\",\n",
    "        \"include\": \"production\",\n",
    "    },\n",
    ").json()"
   ]
  },
  {
   "attachments": {},
   "cell_type": "markdown",
   "metadata": {},
   "source": [
    "The `production` field is an array of `ProductionEvent` objects, each of which has:\n",
    "- a `label`\n",
    "- a list of `agents`\n",
    "- a list of `dates`\n",
    "- a list of `places`\n",
    "\n",
    "We can see those for the first result in the list like this:"
   ]
  },
  {
   "cell_type": "code",
   "execution_count": null,
   "metadata": {},
   "outputs": [],
   "source": [
    "response[\"results\"][0][\"production\"]"
   ]
  },
  {
   "attachments": {},
   "cell_type": "markdown",
   "metadata": {},
   "source": [
    "Internally, each `productionEvent` date has a start and an end (because often we don't know _exactly_ when a work was produced). The works for our request are sorted by the earliest _start_ date in their `production.dates` field."
   ]
  },
  {
   "cell_type": "code",
   "execution_count": null,
   "metadata": {},
   "outputs": [],
   "source": [
    "for i, result in enumerate(response[\"results\"]):\n",
    "    print(f\"{i+1}. {result['title']}\")\n",
    "    print(f\"   {result['production'][0]['dates'][0]['label']}\")\n",
    "    print(f\"   https://wellcomecollection.org/works/{result['id']}\")\n",
    "    print()"
   ]
  },
  {
   "attachments": {},
   "cell_type": "markdown",
   "metadata": {},
   "source": [
    "Those results are in ascending order, but we can also change the `sortOrder` to give us newer works first."
   ]
  },
  {
   "cell_type": "code",
   "execution_count": null,
   "metadata": {},
   "outputs": [],
   "source": [
    "response = requests.get(\n",
    "    base_url + \"/works\",\n",
    "    params={\n",
    "        \"query\": \"horse\",\n",
    "        \"sort\": \"production.dates\",\n",
    "        \"sortOrder\": \"desc\",\n",
    "        \"include\": \"production\",\n",
    "    },\n",
    ").json()\n",
    "\n",
    "for i, result in enumerate(response[\"results\"]):\n",
    "    print(f\"{i+1}. {result['title']}\")\n",
    "    print(f\"   {result['production'][0]['dates'][0]['label']}\")\n",
    "    print(f\"   https://wellcomecollection.org/works/{result['id']}\")\n",
    "    print()"
   ]
  },
  {
   "attachments": {},
   "cell_type": "markdown",
   "metadata": {},
   "source": [
    "## 1.4 Filtering results\n",
    "\n",
    "We can ask the API to return works between a set of dates, using the `production.dates.from` and `production.dates.to` parameters. Let's ask for works produced between 1900 and 1910."
   ]
  },
  {
   "cell_type": "code",
   "execution_count": null,
   "metadata": {},
   "outputs": [],
   "source": [
    "response = requests.get(\n",
    "    base_url + \"/works\",\n",
    "    params={\n",
    "        \"production.dates.from\": \"1900-01-01\",\n",
    "        \"production.dates.to\": \"1910-01-01\",\n",
    "    },\n",
    ").json()\n",
    "\n",
    "response[\"totalResults\"]"
   ]
  },
  {
   "attachments": {},
   "cell_type": "markdown",
   "metadata": {},
   "source": [
    "Previously, we used the `production.dates` to _sort_ our results. \n",
    "\n",
    "Here, the results are sorted in the default order (ie sorted by `id`), but they're _filtered_ to only show works which were produced in the range we're interested in.\n",
    "\n",
    "We can also filter by lots of other fields, like subjects! Let's ask for works about cats, by using the `subjects.label` field."
   ]
  },
  {
   "cell_type": "code",
   "execution_count": null,
   "metadata": {},
   "outputs": [],
   "source": [
    "response = requests.get(\n",
    "    base_url + \"/works\",\n",
    "    params={\n",
    "        \"subjects.label\": \"Cats\",\n",
    "    },\n",
    ").json()\n",
    "\n",
    "response[\"totalResults\"]"
   ]
  },
  {
   "attachments": {},
   "cell_type": "markdown",
   "metadata": {},
   "source": [
    "\n",
    "\n",
    "## 1.5 Including extra fields in the response\n",
    "\n",
    "We can ask the API to give us extra information in the response by adding an `include` query parameter to our request, as we did above to get our `production` events for each work.\n",
    "\n",
    "There are lots of other fields we can request for each work:\n",
    "\n",
    "- `identifiers`\n",
    "- `items`\n",
    "- `holdings`\n",
    "- `subjects`\n",
    "- `genres`\n",
    "- `contributors`\n",
    "- `production`\n",
    "- `languages`\n",
    "- `notes`\n",
    "- `images`\n",
    "- `succeededBy`\n",
    "- `precededBy`\n",
    "- `partOf`\n",
    "- `parts`\n",
    "\n",
    "The full documentation for each of them is available in the [API documentation](https://developers.wellcomecollection.org/api/catalogue#tag/Works/operation/getWorks).\n",
    "\n",
    "Let's have a look at `subjects`, as an example."
   ]
  },
  {
   "cell_type": "code",
   "execution_count": null,
   "metadata": {},
   "outputs": [],
   "source": [
    "response = requests.get(\n",
    "    base_url + \"/works\",\n",
    "    params={\n",
    "        \"include\": \"subjects\",\n",
    "    },\n",
    ").json()"
   ]
  },
  {
   "attachments": {},
   "cell_type": "markdown",
   "metadata": {},
   "source": [
    "The `subjects` field is an array of `Subject` objects, each of which has:\n",
    "- a `label`\n",
    "- an `id`\n",
    "- a list of `concepts`, where each concept has\n",
    "    - a `label`\n",
    "    - an `id`\n",
    "    - a `type`, eg `Concept`, `Period`, `Person`, `Place`\n",
    "\n",
    "We can see those for the first result in the response like this:"
   ]
  },
  {
   "cell_type": "code",
   "execution_count": null,
   "metadata": {},
   "outputs": [],
   "source": [
    "response[\"results\"][0][\"subjects\"]"
   ]
  },
  {
   "attachments": {},
   "cell_type": "markdown",
   "metadata": {},
   "source": [
    "In the next notebook, we'll start requesting bigger batches of data and doing some more local data science and analysis to answer some more interesting questions. In the meantime, here are some exercises to test your understanding of what we've covered so far.\n",
    "\n",
    "\n",
    "## Exercises\n",
    "\n",
    "1. Fetch the data for the work with the id `ca5c6h4x`\n",
    "2. Make a request for a work which includes all of its `genres` (these are the types/techniques of the work, eg `painting`, `etching`, `poster`)\n",
    "3. Find the oldest and newest work about `pigs` in the collection\n",
    "4. Filter the works about `pigs` to only include those that were produced in the 20th century"
   ]
  },
  {
   "cell_type": "markdown",
   "metadata": {},
   "source": []
  }
 ],
 "metadata": {
  "kernelspec": {
   "display_name": "Python 3",
   "language": "python",
   "name": "python3"
  },
  "language_info": {
   "codemirror_mode": {
    "name": "ipython",
    "version": 3
   },
   "file_extension": ".py",
   "mimetype": "text/x-python",
   "name": "python",
   "nbconvert_exporter": "python",
   "pygments_lexer": "ipython3",
   "version": "3.10.11"
  }
 },
 "nbformat": 4,
 "nbformat_minor": 2
}
